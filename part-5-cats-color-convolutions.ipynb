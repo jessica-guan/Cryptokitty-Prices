{
 "cells": [
  {
   "cell_type": "code",
   "execution_count": 1,
   "id": "9e4bdd5b",
   "metadata": {
    "_cell_guid": "b1076dfc-b9ad-4769-8c92-a6c4dae69d19",
    "_uuid": "8f2839f25d086af736a60e9eeb907d3b93b6e0e5",
    "execution": {
     "iopub.execute_input": "2023-12-23T05:25:33.303029Z",
     "iopub.status.busy": "2023-12-23T05:25:33.302655Z",
     "iopub.status.idle": "2023-12-23T05:25:45.598481Z",
     "shell.execute_reply": "2023-12-23T05:25:45.597479Z"
    },
    "papermill": {
     "duration": 12.307173,
     "end_time": "2023-12-23T05:25:45.600448",
     "exception": false,
     "start_time": "2023-12-23T05:25:33.293275",
     "status": "completed"
    },
    "tags": []
   },
   "outputs": [
    {
     "name": "stderr",
     "output_type": "stream",
     "text": [
      "100%|██████████| 2000/2000 [00:10<00:00, 185.66it/s]\n",
      "100%|██████████| 120/120 [00:00<00:00, 211.47it/s]\n"
     ]
    }
   ],
   "source": [
    "import numpy as np\n",
    "import pandas as pd\n",
    "import os\n",
    "import cv2\n",
    "import tqdm\n",
    "import matplotlib.pyplot as plt\n",
    "\n",
    "train_df = pd.read_csv('/kaggle/input/how-much-would-you-pay-for-a-fake-cat/train.csv')\n",
    "test_df = pd.read_csv('/kaggle/input/how-much-would-you-pay-for-a-fake-cat/test.csv')\n",
    "\n",
    "image_dir = '/kaggle/input/part-3-resizing-our-images/resized'\n",
    "\n",
    "def load_image_data(ids):\n",
    "    image_data = []\n",
    "    for img_id in tqdm.tqdm(ids):\n",
    "        img_path = os.path.join(image_dir, img_id + '.png')\n",
    "        im = cv2.imread(img_path)\n",
    "        im = im / 255\n",
    "        im = np.expand_dims(im, axis=-1)\n",
    "        image_data.append(im)\n",
    "    return image_data\n",
    "\n",
    "train_images = load_image_data(train_df['id'])\n",
    "test_images = load_image_data(test_df['id'])"
   ]
  },
  {
   "cell_type": "code",
   "execution_count": 2,
   "id": "f20d76a3",
   "metadata": {
    "execution": {
     "iopub.execute_input": "2023-12-23T05:25:45.634562Z",
     "iopub.status.busy": "2023-12-23T05:25:45.633694Z",
     "iopub.status.idle": "2023-12-23T05:25:47.419022Z",
     "shell.execute_reply": "2023-12-23T05:25:47.418133Z"
    },
    "papermill": {
     "duration": 1.804543,
     "end_time": "2023-12-23T05:25:47.421250",
     "exception": false,
     "start_time": "2023-12-23T05:25:45.616707",
     "status": "completed"
    },
    "tags": []
   },
   "outputs": [],
   "source": [
    "train_input_data = np.array(train_images).astype(np.float16)\n",
    "test_input_data = np.array(test_images).astype(np.float16)"
   ]
  },
  {
   "cell_type": "code",
   "execution_count": 3,
   "id": "8f848bfa",
   "metadata": {
    "execution": {
     "iopub.execute_input": "2023-12-23T05:25:47.455657Z",
     "iopub.status.busy": "2023-12-23T05:25:47.454975Z",
     "iopub.status.idle": "2023-12-23T05:25:47.467879Z",
     "shell.execute_reply": "2023-12-23T05:25:47.466968Z"
    },
    "papermill": {
     "duration": 0.031961,
     "end_time": "2023-12-23T05:25:47.469768",
     "exception": false,
     "start_time": "2023-12-23T05:25:47.437807",
     "status": "completed"
    },
    "tags": []
   },
   "outputs": [
    {
     "data": {
      "text/plain": [
       "array([ 2.13,  0.46, 10.  , ...,  1.44,  2.5 , 40.  ], dtype=float16)"
      ]
     },
     "execution_count": 3,
     "metadata": {},
     "output_type": "execute_result"
    }
   ],
   "source": [
    "train_df['price'] = train_df['price'].apply(lambda p: p.replace(',', ''))\n",
    "train_labels = train_df['price'].values.astype(np.float16)\n",
    "train_labels = np.clip(train_labels, 0, 100)\n",
    "train_labels"
   ]
  },
  {
   "cell_type": "code",
   "execution_count": 4,
   "id": "30ce7487",
   "metadata": {
    "execution": {
     "iopub.execute_input": "2023-12-23T05:25:47.502607Z",
     "iopub.status.busy": "2023-12-23T05:25:47.502292Z",
     "iopub.status.idle": "2023-12-23T05:25:47.507505Z",
     "shell.execute_reply": "2023-12-23T05:25:47.506516Z"
    },
    "papermill": {
     "duration": 0.023608,
     "end_time": "2023-12-23T05:25:47.509434",
     "exception": false,
     "start_time": "2023-12-23T05:25:47.485826",
     "status": "completed"
    },
    "tags": []
   },
   "outputs": [
    {
     "name": "stdout",
     "output_type": "stream",
     "text": [
      "<class 'numpy.ndarray'>\n",
      "(2000, 200, 200, 3, 1)\n",
      "<class 'numpy.ndarray'>\n",
      "(2000,)\n"
     ]
    }
   ],
   "source": [
    "# Lets check our dimensions\n",
    "print(type(train_input_data))\n",
    "print(train_input_data.shape)\n",
    "print(type(train_labels))\n",
    "print(train_labels.shape)"
   ]
  },
  {
   "cell_type": "code",
   "execution_count": 5,
   "id": "5825e3e8",
   "metadata": {
    "execution": {
     "iopub.execute_input": "2023-12-23T05:25:47.542786Z",
     "iopub.status.busy": "2023-12-23T05:25:47.542437Z",
     "iopub.status.idle": "2023-12-23T05:25:47.548565Z",
     "shell.execute_reply": "2023-12-23T05:25:47.547795Z"
    },
    "papermill": {
     "duration": 0.024888,
     "end_time": "2023-12-23T05:25:47.550394",
     "exception": false,
     "start_time": "2023-12-23T05:25:47.525506",
     "status": "completed"
    },
    "tags": []
   },
   "outputs": [
    {
     "data": {
      "text/plain": [
       "array([[0.],\n",
       "       [0.],\n",
       "       [0.]], dtype=float16)"
      ]
     },
     "execution_count": 5,
     "metadata": {},
     "output_type": "execute_result"
    }
   ],
   "source": [
    "# Hmmm we have an extra dimension at the end of our input data; let's investigate\n",
    "train_input_data[0][0][0] # This should show us the pixel from the first image"
   ]
  },
  {
   "cell_type": "code",
   "execution_count": 6,
   "id": "a6ecf8ec",
   "metadata": {
    "execution": {
     "iopub.execute_input": "2023-12-23T05:25:47.584141Z",
     "iopub.status.busy": "2023-12-23T05:25:47.583804Z",
     "iopub.status.idle": "2023-12-23T05:25:47.588538Z",
     "shell.execute_reply": "2023-12-23T05:25:47.587736Z"
    },
    "papermill": {
     "duration": 0.023564,
     "end_time": "2023-12-23T05:25:47.590441",
     "exception": false,
     "start_time": "2023-12-23T05:25:47.566877",
     "status": "completed"
    },
    "tags": []
   },
   "outputs": [],
   "source": [
    "# We don't really need each rgb value to have it's own dimension, so we can remove that\n",
    "# Keep all the                      images, rows, columns, pixels, but just the first value in each color dimension\n",
    "train_input_data = train_input_data[:,      :,    :,       :,      0]\n",
    "test_input_data = test_input_data[:,:,:,:,0]"
   ]
  },
  {
   "cell_type": "code",
   "execution_count": 7,
   "id": "21457b8c",
   "metadata": {
    "execution": {
     "iopub.execute_input": "2023-12-23T05:25:47.624225Z",
     "iopub.status.busy": "2023-12-23T05:25:47.623853Z",
     "iopub.status.idle": "2023-12-23T05:25:47.630028Z",
     "shell.execute_reply": "2023-12-23T05:25:47.629190Z"
    },
    "papermill": {
     "duration": 0.02543,
     "end_time": "2023-12-23T05:25:47.631934",
     "exception": false,
     "start_time": "2023-12-23T05:25:47.606504",
     "status": "completed"
    },
    "tags": []
   },
   "outputs": [
    {
     "data": {
      "text/plain": [
       "(200, 200, 3)"
      ]
     },
     "execution_count": 7,
     "metadata": {},
     "output_type": "execute_result"
    }
   ],
   "source": [
    "train_input_data[0].shape"
   ]
  },
  {
   "cell_type": "code",
   "execution_count": 8,
   "id": "005361eb",
   "metadata": {
    "execution": {
     "iopub.execute_input": "2023-12-23T05:25:47.666309Z",
     "iopub.status.busy": "2023-12-23T05:25:47.666004Z",
     "iopub.status.idle": "2023-12-23T05:25:47.671786Z",
     "shell.execute_reply": "2023-12-23T05:25:47.670979Z"
    },
    "papermill": {
     "duration": 0.025255,
     "end_time": "2023-12-23T05:25:47.673717",
     "exception": false,
     "start_time": "2023-12-23T05:25:47.648462",
     "status": "completed"
    },
    "tags": []
   },
   "outputs": [
    {
     "data": {
      "text/plain": [
       "array([0., 0., 0.], dtype=float16)"
      ]
     },
     "execution_count": 8,
     "metadata": {},
     "output_type": "execute_result"
    }
   ],
   "source": [
    "train_input_data[0][0][0] "
   ]
  },
  {
   "cell_type": "code",
   "execution_count": 9,
   "id": "a43378d0",
   "metadata": {
    "execution": {
     "iopub.execute_input": "2023-12-23T05:25:47.708142Z",
     "iopub.status.busy": "2023-12-23T05:25:47.707790Z",
     "iopub.status.idle": "2023-12-23T05:25:47.713467Z",
     "shell.execute_reply": "2023-12-23T05:25:47.712668Z"
    },
    "papermill": {
     "duration": 0.025138,
     "end_time": "2023-12-23T05:25:47.715494",
     "exception": false,
     "start_time": "2023-12-23T05:25:47.690356",
     "status": "completed"
    },
    "tags": []
   },
   "outputs": [
    {
     "data": {
      "text/plain": [
       "(2000, 200, 200, 3)"
      ]
     },
     "execution_count": 9,
     "metadata": {},
     "output_type": "execute_result"
    }
   ],
   "source": [
    "train_input_data.shape"
   ]
  },
  {
   "cell_type": "code",
   "execution_count": 10,
   "id": "3965bc84",
   "metadata": {
    "execution": {
     "iopub.execute_input": "2023-12-23T05:25:47.749444Z",
     "iopub.status.busy": "2023-12-23T05:25:47.749115Z",
     "iopub.status.idle": "2023-12-23T05:25:47.753077Z",
     "shell.execute_reply": "2023-12-23T05:25:47.752233Z"
    },
    "papermill": {
     "duration": 0.02345,
     "end_time": "2023-12-23T05:25:47.755167",
     "exception": false,
     "start_time": "2023-12-23T05:25:47.731717",
     "status": "completed"
    },
    "tags": []
   },
   "outputs": [],
   "source": [
    "# That looks better!"
   ]
  },
  {
   "cell_type": "code",
   "execution_count": 11,
   "id": "b63abdf8",
   "metadata": {
    "execution": {
     "iopub.execute_input": "2023-12-23T05:25:47.791448Z",
     "iopub.status.busy": "2023-12-23T05:25:47.791091Z",
     "iopub.status.idle": "2023-12-23T05:25:56.945103Z",
     "shell.execute_reply": "2023-12-23T05:25:56.944178Z"
    },
    "papermill": {
     "duration": 9.174585,
     "end_time": "2023-12-23T05:25:56.947543",
     "exception": false,
     "start_time": "2023-12-23T05:25:47.772958",
     "status": "completed"
    },
    "tags": []
   },
   "outputs": [
    {
     "name": "stderr",
     "output_type": "stream",
     "text": [
      "/opt/conda/lib/python3.10/site-packages/scipy/__init__.py:146: UserWarning: A NumPy version >=1.16.5 and <1.23.0 is required for this version of SciPy (detected version 1.23.5\n",
      "  warnings.warn(f\"A NumPy version >={np_minversion} and <{np_maxversion}\"\n"
     ]
    }
   ],
   "source": [
    "import tensorflow as tf\n",
    "from sklearn.model_selection import train_test_split\n",
    "X_train, X_test, y_train, y_test = train_test_split(train_input_data, train_labels, test_size=.2)\n"
   ]
  },
  {
   "cell_type": "code",
   "execution_count": 12,
   "id": "fd704b84",
   "metadata": {
    "execution": {
     "iopub.execute_input": "2023-12-23T05:25:57.026919Z",
     "iopub.status.busy": "2023-12-23T05:25:57.025816Z",
     "iopub.status.idle": "2023-12-23T05:25:57.171003Z",
     "shell.execute_reply": "2023-12-23T05:25:57.170182Z"
    },
    "papermill": {
     "duration": 0.208761,
     "end_time": "2023-12-23T05:25:57.173256",
     "exception": false,
     "start_time": "2023-12-23T05:25:56.964495",
     "status": "completed"
    },
    "tags": []
   },
   "outputs": [],
   "source": [
    "# Let's test it out with our model from last time!\n",
    "import tensorflow as tf\n",
    "from sklearn.model_selection import train_test_split\n",
    "\n",
    "X_train, X_test, y_train, y_test = train_test_split(train_input_data, train_labels, test_size=.2)\n",
    "\n",
    "# model = tf.keras.models.Sequential([\n",
    "#     tf.keras.layers.Flatten(),\n",
    "#     tf.keras.layers.Dense(units=256, activation='relu'),\n",
    "#     tf.keras.layers.Dense(units=1)\n",
    "# ])\n",
    "\n",
    "# model.compile(loss='mean_absolute_error', optimizer='adam')\n",
    "# history = model.fit(X_train, y_train, validation_data=(X_test, y_test), epochs=10, batch_size=16, verbose=1)"
   ]
  },
  {
   "cell_type": "code",
   "execution_count": 13,
   "id": "56592cd5",
   "metadata": {
    "execution": {
     "iopub.execute_input": "2023-12-23T05:25:57.208567Z",
     "iopub.status.busy": "2023-12-23T05:25:57.207873Z",
     "iopub.status.idle": "2023-12-23T05:25:57.226231Z",
     "shell.execute_reply": "2023-12-23T05:25:57.225480Z"
    },
    "papermill": {
     "duration": 0.038234,
     "end_time": "2023-12-23T05:25:57.228335",
     "exception": false,
     "start_time": "2023-12-23T05:25:57.190101",
     "status": "completed"
    },
    "tags": []
   },
   "outputs": [],
   "source": [
    "# Hmmm it didn't really do all that much better; some of this can be a result of the random way we broke up our training and testing data\n",
    "# Let's try mutliple different train/test splits to get a better sense of how it will perform on unseen data\n",
    "from tensorflow import keras \n",
    "\n",
    "tf.keras.backend.clear_session()\n",
    "# final_val_losses = []\n",
    "# for i in range(4):\n",
    "#     X_train, X_test, y_train, y_test = train_test_split(train_input_data, train_labels, test_size=.2, random_state=i)\n",
    "#     tf.keras.backend.clear_session()\n",
    "#     keras.utils.set_random_seed(1)\n",
    "#     model = tf.keras.models.Sequential([\n",
    "#         tf.keras.layers.Flatten(),\n",
    "#         tf.keras.layers.Dense(units=256, activation='relu'),\n",
    "#         tf.keras.layers.Dense(units=1)\n",
    "#     ])\n",
    "\n",
    "#     model.compile(loss='mean_absolute_error', optimizer='adam')\n",
    "#     history = model.fit(X_train, y_train, validation_data=(X_test, y_test), epochs=10, batch_size=16, verbose=0)\n",
    "#     final_val_loss = history.history['val_loss'][-1]\n",
    "#     print(final_val_loss)\n",
    "#     final_val_losses.append(final_val_loss)\n",
    "# print('Average Val Loss:')\n",
    "# print(np.mean(final_val_losses))"
   ]
  },
  {
   "cell_type": "code",
   "execution_count": 14,
   "id": "70c2b2eb",
   "metadata": {
    "execution": {
     "iopub.execute_input": "2023-12-23T05:25:57.263253Z",
     "iopub.status.busy": "2023-12-23T05:25:57.262914Z",
     "iopub.status.idle": "2023-12-23T05:25:57.404953Z",
     "shell.execute_reply": "2023-12-23T05:25:57.404089Z"
    },
    "papermill": {
     "duration": 0.162048,
     "end_time": "2023-12-23T05:25:57.407335",
     "exception": false,
     "start_time": "2023-12-23T05:25:57.245287",
     "status": "completed"
    },
    "tags": []
   },
   "outputs": [],
   "source": [
    "X_train, X_test, y_train, y_test = train_test_split(train_input_data, train_labels, test_size=.2, random_state=1)"
   ]
  },
  {
   "cell_type": "markdown",
   "id": "00a6bddd",
   "metadata": {
    "papermill": {
     "duration": 0.016806,
     "end_time": "2023-12-23T05:25:57.441483",
     "exception": false,
     "start_time": "2023-12-23T05:25:57.424677",
     "status": "completed"
    },
    "tags": []
   },
   "source": [
    "# Convolutions!"
   ]
  },
  {
   "cell_type": "code",
   "execution_count": 15,
   "id": "8e6246a8",
   "metadata": {
    "execution": {
     "iopub.execute_input": "2023-12-23T05:25:57.476916Z",
     "iopub.status.busy": "2023-12-23T05:25:57.476512Z",
     "iopub.status.idle": "2023-12-23T05:25:57.484471Z",
     "shell.execute_reply": "2023-12-23T05:25:57.483506Z"
    },
    "papermill": {
     "duration": 0.028104,
     "end_time": "2023-12-23T05:25:57.486464",
     "exception": false,
     "start_time": "2023-12-23T05:25:57.458360",
     "status": "completed"
    },
    "tags": []
   },
   "outputs": [],
   "source": [
    "x = np.array([\n",
    "    [0, 0, 0, 0, 0, 0, 0, 0, 0, 0],\n",
    "    [0, 0, 0, 0, 0, 0, 0, 0, 0, 0],\n",
    "    [0, 0, 1, 1, 1, 1, 1, 0, 0, 0],\n",
    "    [0, 0, 1, 0, 0, 0, 1, 0, 0, 0],\n",
    "    [0, 0, 1, 0, 0, 0, 1, 0, 0, 0],\n",
    "    [0, 0, 1, 0, 0, 0, 1, 0, 0, 0],\n",
    "    [0, 0, 1, 1, 1, 1, 1, 0, 0, 0],\n",
    "    [0, 0, 0, 0, 0, 0, 0, 0, 0, 0],\n",
    "    [0, 0, 0, 0, 0, 0, 0, 0, 0,0 ],\n",
    "    [0, 0, 0, 0, 0, 0, 0, 0, 0,0 ],\n",
    "]).astype(float)"
   ]
  },
  {
   "cell_type": "code",
   "execution_count": 16,
   "id": "3ebb6500",
   "metadata": {
    "execution": {
     "iopub.execute_input": "2023-12-23T05:25:57.520906Z",
     "iopub.status.busy": "2023-12-23T05:25:57.520585Z",
     "iopub.status.idle": "2023-12-23T05:25:57.725445Z",
     "shell.execute_reply": "2023-12-23T05:25:57.724479Z"
    },
    "papermill": {
     "duration": 0.224602,
     "end_time": "2023-12-23T05:25:57.727694",
     "exception": false,
     "start_time": "2023-12-23T05:25:57.503092",
     "status": "completed"
    },
    "tags": []
   },
   "outputs": [
    {
     "data": {
      "text/plain": [
       "<matplotlib.image.AxesImage at 0x797f7995aa40>"
      ]
     },
     "execution_count": 16,
     "metadata": {},
     "output_type": "execute_result"
    },
    {
     "data": {
      "image/png": "[encoded data removed]",
      "text/plain": [
       "<Figure size 640x480 with 1 Axes>"
      ]
     },
     "metadata": {},
     "output_type": "display_data"
    }
   ],
   "source": [
    "plt.imshow(x, cmap='gray')"
   ]
  },
  {
   "cell_type": "code",
   "execution_count": 17,
   "id": "f13fe307",
   "metadata": {
    "execution": {
     "iopub.execute_input": "2023-12-23T05:25:57.764367Z",
     "iopub.status.busy": "2023-12-23T05:25:57.763356Z",
     "iopub.status.idle": "2023-12-23T05:25:57.770205Z",
     "shell.execute_reply": "2023-12-23T05:25:57.769381Z"
    },
    "papermill": {
     "duration": 0.026781,
     "end_time": "2023-12-23T05:25:57.772054",
     "exception": false,
     "start_time": "2023-12-23T05:25:57.745273",
     "status": "completed"
    },
    "tags": []
   },
   "outputs": [],
   "source": [
    "new_x = np.array([[0] * 5]*5).astype(float)\n",
    "for i in range(x.shape[0] // 2):\n",
    "    for j in range(x.shape[1] // 2):\n",
    "        new_value = np.mean(x[(i*2):(i*2)+2,(j*2):(j*2)+2])\n",
    "        new_x[i][j] = new_value"
   ]
  },
  {
   "cell_type": "code",
   "execution_count": 18,
   "id": "9612ef67",
   "metadata": {
    "execution": {
     "iopub.execute_input": "2023-12-23T05:25:57.809560Z",
     "iopub.status.busy": "2023-12-23T05:25:57.808931Z",
     "iopub.status.idle": "2023-12-23T05:25:57.815391Z",
     "shell.execute_reply": "2023-12-23T05:25:57.814405Z"
    },
    "papermill": {
     "duration": 0.028247,
     "end_time": "2023-12-23T05:25:57.817404",
     "exception": false,
     "start_time": "2023-12-23T05:25:57.789157",
     "status": "completed"
    },
    "tags": []
   },
   "outputs": [
    {
     "data": {
      "text/plain": [
       "array([[0.  , 0.  , 0.  , 0.  , 0.  ],\n",
       "       [0.  , 0.75, 0.5 , 0.5 , 0.  ],\n",
       "       [0.  , 0.5 , 0.  , 0.5 , 0.  ],\n",
       "       [0.  , 0.5 , 0.5 , 0.25, 0.  ],\n",
       "       [0.  , 0.  , 0.  , 0.  , 0.  ]])"
      ]
     },
     "execution_count": 18,
     "metadata": {},
     "output_type": "execute_result"
    }
   ],
   "source": [
    "new_x"
   ]
  },
  {
   "cell_type": "code",
   "execution_count": 19,
   "id": "1aab3cad",
   "metadata": {
    "execution": {
     "iopub.execute_input": "2023-12-23T05:25:57.856823Z",
     "iopub.status.busy": "2023-12-23T05:25:57.856067Z",
     "iopub.status.idle": "2023-12-23T05:25:58.053460Z",
     "shell.execute_reply": "2023-12-23T05:25:58.052548Z"
    },
    "papermill": {
     "duration": 0.218623,
     "end_time": "2023-12-23T05:25:58.055646",
     "exception": false,
     "start_time": "2023-12-23T05:25:57.837023",
     "status": "completed"
    },
    "tags": []
   },
   "outputs": [
    {
     "data": {
      "text/plain": [
       "<matplotlib.image.AxesImage at 0x797f7995b640>"
      ]
     },
     "execution_count": 19,
     "metadata": {},
     "output_type": "execute_result"
    },
    {
     "data": {
      "image/png": "[encoded data removed]",
      "text/plain": [
       "<Figure size 640x480 with 1 Axes>"
      ]
     },
     "metadata": {},
     "output_type": "display_data"
    }
   ],
   "source": [
    "plt.imshow(new_x, cmap='gray')"
   ]
  },
  {
   "cell_type": "code",
   "execution_count": 20,
   "id": "a8ac494b",
   "metadata": {
    "execution": {
     "iopub.execute_input": "2023-12-23T05:25:58.092293Z",
     "iopub.status.busy": "2023-12-23T05:25:58.091953Z",
     "iopub.status.idle": "2023-12-23T05:25:58.334070Z",
     "shell.execute_reply": "2023-12-23T05:25:58.333131Z"
    },
    "papermill": {
     "duration": 0.263027,
     "end_time": "2023-12-23T05:25:58.336299",
     "exception": false,
     "start_time": "2023-12-23T05:25:58.073272",
     "status": "completed"
    },
    "tags": []
   },
   "outputs": [
    {
     "data": {
      "text/plain": [
       "<matplotlib.image.AxesImage at 0x797f78b877f0>"
      ]
     },
     "execution_count": 20,
     "metadata": {},
     "output_type": "execute_result"
    },
    {
     "data": {
      "image/png": "[encoded data removed]",
      "text/plain": [
       "<Figure size 640x480 with 1 Axes>"
      ]
     },
     "metadata": {},
     "output_type": "display_data"
    }
   ],
   "source": [
    "plt.imshow(x, cmap='gray')"
   ]
  },
  {
   "cell_type": "code",
   "execution_count": 21,
   "id": "4e7c6a51",
   "metadata": {
    "execution": {
     "iopub.execute_input": "2023-12-23T05:25:58.372808Z",
     "iopub.status.busy": "2023-12-23T05:25:58.372498Z",
     "iopub.status.idle": "2023-12-23T05:25:58.376430Z",
     "shell.execute_reply": "2023-12-23T05:25:58.375597Z"
    },
    "papermill": {
     "duration": 0.024333,
     "end_time": "2023-12-23T05:25:58.378360",
     "exception": false,
     "start_time": "2023-12-23T05:25:58.354027",
     "status": "completed"
    },
    "tags": []
   },
   "outputs": [],
   "source": [
    "# Right now our dense neural network kind of assumes that any two pixels are equally related\n",
    "# But we know that's not true--pixels close together are more likely to share a meaningful relationship"
   ]
  },
  {
   "cell_type": "code",
   "execution_count": 22,
   "id": "27fa2af6",
   "metadata": {
    "execution": {
     "iopub.execute_input": "2023-12-23T05:25:58.415861Z",
     "iopub.status.busy": "2023-12-23T05:25:58.414998Z",
     "iopub.status.idle": "2023-12-23T05:26:43.774454Z",
     "shell.execute_reply": "2023-12-23T05:26:43.773560Z"
    },
    "papermill": {
     "duration": 45.380483,
     "end_time": "2023-12-23T05:26:43.776662",
     "exception": false,
     "start_time": "2023-12-23T05:25:58.396179",
     "status": "completed"
    },
    "tags": []
   },
   "outputs": [
    {
     "name": "stdout",
     "output_type": "stream",
     "text": [
      "Epoch 1/30\n",
      "125/125 [==============================] - 10s 14ms/step - loss: 11.7954 - val_loss: 12.0580\n",
      "Epoch 2/30\n",
      "125/125 [==============================] - 1s 8ms/step - loss: 11.4524 - val_loss: 11.5300\n",
      "Epoch 3/30\n",
      "125/125 [==============================] - 1s 8ms/step - loss: 11.2787 - val_loss: 11.3355\n",
      "Epoch 4/30\n",
      "125/125 [==============================] - 1s 8ms/step - loss: 11.1823 - val_loss: 11.2783\n",
      "Epoch 5/30\n",
      "125/125 [==============================] - 1s 8ms/step - loss: 11.0264 - val_loss: 11.0877\n",
      "Epoch 6/30\n",
      "125/125 [==============================] - 1s 8ms/step - loss: 10.9496 - val_loss: 10.6504\n",
      "Epoch 7/30\n",
      "125/125 [==============================] - 1s 8ms/step - loss: 10.7746 - val_loss: 10.7519\n",
      "Epoch 8/30\n",
      "125/125 [==============================] - 1s 8ms/step - loss: 10.7236 - val_loss: 10.6630\n",
      "Epoch 9/30\n",
      "125/125 [==============================] - 1s 8ms/step - loss: 10.6373 - val_loss: 10.5095\n",
      "Epoch 10/30\n",
      "125/125 [==============================] - 1s 8ms/step - loss: 10.6352 - val_loss: 10.3728\n",
      "Epoch 11/30\n",
      "125/125 [==============================] - 1s 8ms/step - loss: 10.5568 - val_loss: 10.2420\n",
      "Epoch 12/30\n",
      "125/125 [==============================] - 1s 8ms/step - loss: 10.4733 - val_loss: 10.3500\n",
      "Epoch 13/30\n",
      "125/125 [==============================] - 1s 8ms/step - loss: 10.4750 - val_loss: 10.4129\n",
      "Epoch 14/30\n",
      "125/125 [==============================] - 1s 8ms/step - loss: 10.4244 - val_loss: 10.2492\n",
      "Epoch 15/30\n",
      "125/125 [==============================] - 1s 8ms/step - loss: 10.3699 - val_loss: 10.1428\n",
      "Epoch 16/30\n",
      "125/125 [==============================] - 1s 8ms/step - loss: 10.3654 - val_loss: 10.1157\n",
      "Epoch 17/30\n",
      "125/125 [==============================] - 1s 8ms/step - loss: 10.3966 - val_loss: 10.3824\n",
      "Epoch 18/30\n",
      "125/125 [==============================] - 1s 8ms/step - loss: 10.3346 - val_loss: 9.9935\n",
      "Epoch 19/30\n",
      "125/125 [==============================] - 1s 8ms/step - loss: 10.3078 - val_loss: 10.0898\n",
      "Epoch 20/30\n",
      "125/125 [==============================] - 1s 8ms/step - loss: 10.3185 - val_loss: 9.9854\n",
      "Epoch 21/30\n",
      "125/125 [==============================] - 1s 8ms/step - loss: 10.2244 - val_loss: 9.9740\n",
      "Epoch 22/30\n",
      "125/125 [==============================] - 1s 8ms/step - loss: 10.2840 - val_loss: 10.1497\n",
      "Epoch 23/30\n",
      "125/125 [==============================] - 1s 8ms/step - loss: 10.2732 - val_loss: 10.1744\n",
      "Epoch 24/30\n",
      "125/125 [==============================] - 1s 8ms/step - loss: 10.2230 - val_loss: 10.1954\n",
      "Epoch 25/30\n",
      "125/125 [==============================] - 1s 8ms/step - loss: 10.2540 - val_loss: 10.0308\n",
      "Epoch 26/30\n",
      "125/125 [==============================] - 1s 8ms/step - loss: 10.1757 - val_loss: 10.1145\n",
      "Epoch 27/30\n",
      "125/125 [==============================] - 1s 8ms/step - loss: 10.2017 - val_loss: 10.0475\n",
      "Epoch 28/30\n",
      "125/125 [==============================] - 1s 8ms/step - loss: 10.1700 - val_loss: 9.9238\n",
      "Epoch 29/30\n",
      "125/125 [==============================] - 1s 8ms/step - loss: 10.1422 - val_loss: 9.9310\n",
      "Epoch 30/30\n",
      "125/125 [==============================] - 1s 8ms/step - loss: 10.1663 - val_loss: 9.8812\n"
     ]
    }
   ],
   "source": [
    "tf.keras.backend.clear_session()\n",
    "cnn_model = tf.keras.models.Sequential([\n",
    "    tf.keras.layers.Conv2D(8, kernel_size=(3, 3), activation=\"relu\", ),\n",
    "    tf.keras.layers.MaxPooling2D(pool_size=(2, 2)),\n",
    "    tf.keras.layers.Flatten(),\n",
    "    tf.keras.layers.Dropout(.5),\n",
    "    tf.keras.layers.Dense(units=128, activation='relu'),\n",
    "    tf.keras.layers.Dense(units=1)\n",
    "])\n",
    "\n",
    "cnn_model.compile(loss='mean_absolute_error', optimizer='adam')\n",
    "history = cnn_model.fit(train_input_data, train_labels, validation_data=(X_test, y_test), epochs=30, batch_size=16, verbose=1)"
   ]
  },
  {
   "cell_type": "code",
   "execution_count": 23,
   "id": "9e83e4d9",
   "metadata": {
    "execution": {
     "iopub.execute_input": "2023-12-23T05:26:43.902844Z",
     "iopub.status.busy": "2023-12-23T05:26:43.901965Z",
     "iopub.status.idle": "2023-12-23T05:26:43.924779Z",
     "shell.execute_reply": "2023-12-23T05:26:43.923816Z"
    },
    "papermill": {
     "duration": 0.092815,
     "end_time": "2023-12-23T05:26:43.932767",
     "exception": false,
     "start_time": "2023-12-23T05:26:43.839952",
     "status": "completed"
    },
    "tags": []
   },
   "outputs": [
    {
     "name": "stdout",
     "output_type": "stream",
     "text": [
      "Model: \"sequential\"\n",
      "_________________________________________________________________\n",
      " Layer (type)                Output Shape              Param #   \n",
      "=================================================================\n",
      " conv2d (Conv2D)             (16, 198, 198, 8)         224       \n",
      "                                                                 \n",
      " max_pooling2d (MaxPooling2D  (16, 99, 99, 8)          0         \n",
      " )                                                               \n",
      "                                                                 \n",
      " flatten (Flatten)           (16, 78408)               0         \n",
      "                                                                 \n",
      " dropout (Dropout)           (16, 78408)               0         \n",
      "                                                                 \n",
      " dense (Dense)               (16, 128)                 10036352  \n",
      "                                                                 \n",
      " dense_1 (Dense)             (16, 1)                   129       \n",
      "                                                                 \n",
      "=================================================================\n",
      "Total params: 10,036,705\n",
      "Trainable params: 10,036,705\n",
      "Non-trainable params: 0\n",
      "_________________________________________________________________\n"
     ]
    }
   ],
   "source": [
    "cnn_model.summary()"
   ]
  },
  {
   "cell_type": "code",
   "execution_count": 24,
   "id": "9c8bb32f",
   "metadata": {
    "execution": {
     "iopub.execute_input": "2023-12-23T05:26:44.062101Z",
     "iopub.status.busy": "2023-12-23T05:26:44.061389Z",
     "iopub.status.idle": "2023-12-23T05:26:44.333087Z",
     "shell.execute_reply": "2023-12-23T05:26:44.332124Z"
    },
    "papermill": {
     "duration": 0.338143,
     "end_time": "2023-12-23T05:26:44.335130",
     "exception": false,
     "start_time": "2023-12-23T05:26:43.996987",
     "status": "completed"
    },
    "tags": []
   },
   "outputs": [
    {
     "data": {
      "text/plain": [
       "<matplotlib.legend.Legend at 0x797f78bfa680>"
      ]
     },
     "execution_count": 24,
     "metadata": {},
     "output_type": "execute_result"
    },
    {
     "data": {
      "image/png": "[encoded data removed]",
      "text/plain": [
       "<Figure size 640x480 with 1 Axes>"
      ]
     },
     "metadata": {},
     "output_type": "display_data"
    }
   ],
   "source": [
    "plt.plot(history.history['loss'])\n",
    "plt.plot(history.history['val_loss'])\n",
    "plt.legend(['loss', 'val_loss'], loc='upper left')"
   ]
  },
  {
   "cell_type": "code",
   "execution_count": 25,
   "id": "91c011c6",
   "metadata": {
    "execution": {
     "iopub.execute_input": "2023-12-23T05:26:44.463773Z",
     "iopub.status.busy": "2023-12-23T05:26:44.463146Z",
     "iopub.status.idle": "2023-12-23T05:26:44.933445Z",
     "shell.execute_reply": "2023-12-23T05:26:44.932611Z"
    },
    "papermill": {
     "duration": 0.537484,
     "end_time": "2023-12-23T05:26:44.935664",
     "exception": false,
     "start_time": "2023-12-23T05:26:44.398180",
     "status": "completed"
    },
    "tags": []
   },
   "outputs": [
    {
     "name": "stdout",
     "output_type": "stream",
     "text": [
      "4/4 [==============================] - 0s 19ms/step\n"
     ]
    }
   ],
   "source": [
    "test_df['price'] = cnn_model.predict(test_input_data)"
   ]
  },
  {
   "cell_type": "code",
   "execution_count": 26,
   "id": "2f42e12d",
   "metadata": {
    "execution": {
     "iopub.execute_input": "2023-12-23T05:26:45.066292Z",
     "iopub.status.busy": "2023-12-23T05:26:45.065397Z",
     "iopub.status.idle": "2023-12-23T05:26:45.077274Z",
     "shell.execute_reply": "2023-12-23T05:26:45.076561Z"
    },
    "papermill": {
     "duration": 0.078774,
     "end_time": "2023-12-23T05:26:45.079243",
     "exception": false,
     "start_time": "2023-12-23T05:26:45.000469",
     "status": "completed"
    },
    "tags": []
   },
   "outputs": [],
   "source": [
    "submission_df = test_df[['id', 'price']]\n",
    "submission_df.to_csv('submission.csv', index=False)"
   ]
  },
  {
   "cell_type": "code",
   "execution_count": null,
   "id": "e5caab1f",
   "metadata": {
    "papermill": {
     "duration": 0.063116,
     "end_time": "2023-12-23T05:26:45.205818",
     "exception": false,
     "start_time": "2023-12-23T05:26:45.142702",
     "status": "completed"
    },
    "tags": []
   },
   "outputs": [],
   "source": []
  }
 ],
 "metadata": {
  "kaggle": {
   "accelerator": "gpu",
   "dataSources": [
    {
     "databundleVersionId": 6487581,
     "sourceId": 60121,
     "sourceType": "competition"
    },
    {
     "sourceId": 142174784,
     "sourceType": "kernelVersion"
    }
   ],
   "dockerImageVersionId": 30559,
   "isGpuEnabled": true,
   "isInternetEnabled": true,
   "language": "python",
   "sourceType": "notebook"
  },
  "kernelspec": {
   "display_name": "Python 3",
   "language": "python",
   "name": "python3"
  },
  "language_info": {
   "codemirror_mode": {
    "name": "ipython",
    "version": 3
   },
   "file_extension": ".py",
   "mimetype": "text/x-python",
   "name": "python",
   "nbconvert_exporter": "python",
   "pygments_lexer": "ipython3",
   "version": "3.10.12"
  },
  "papermill": {
   "default_parameters": {},
   "duration": 78.607427,
   "end_time": "2023-12-23T05:26:48.459977",
   "environment_variables": {},
   "exception": null,
   "input_path": "__notebook__.ipynb",
   "output_path": "__notebook__.ipynb",
   "parameters": {},
   "start_time": "2023-12-23T05:25:29.852550",
   "version": "2.4.0"
  }
 },
 "nbformat": 4,
 "nbformat_minor": 5
}
