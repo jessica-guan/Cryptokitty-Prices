{
 "cells": [
  {
   "cell_type": "markdown",
   "id": "caab5142",
   "metadata": {
    "_cell_guid": "b1076dfc-b9ad-4769-8c92-a6c4dae69d19",
    "_uuid": "8f2839f25d086af736a60e9eeb907d3b93b6e0e5",
    "papermill": {
     "duration": 0.005254,
     "end_time": "2023-12-23T05:28:26.531954",
     "exception": false,
     "start_time": "2023-12-23T05:28:26.526700",
     "status": "completed"
    },
    "tags": []
   },
   "source": [
    "So far we've explored making a basic linear regression model based solely on speed,\n",
    "and making a much more powerful model based on the image of the cryptokitty.\n",
    "\n",
    "But interestingly, a cat doesn't look any different when it's speed changes, so there's information captured by the speed that we loose when we're only looking at the image.\n",
    "\n",
    "One way to combine the power of our simple model and the power of our image regression model is to make a non-sequential model that has multiple branches that feed into one result."
   ]
  },
  {
   "cell_type": "code",
   "execution_count": 1,
   "id": "a7d06416",
   "metadata": {
    "execution": {
     "iopub.execute_input": "2023-12-23T05:28:26.544281Z",
     "iopub.status.busy": "2023-12-23T05:28:26.543130Z",
     "iopub.status.idle": "2023-12-23T05:28:37.102057Z",
     "shell.execute_reply": "2023-12-23T05:28:37.100940Z"
    },
    "papermill": {
     "duration": 10.567249,
     "end_time": "2023-12-23T05:28:37.104060",
     "exception": false,
     "start_time": "2023-12-23T05:28:26.536811",
     "status": "completed"
    },
    "tags": []
   },
   "outputs": [
    {
     "name": "stderr",
     "output_type": "stream",
     "text": [
      "100%|██████████| 2000/2000 [00:09<00:00, 219.81it/s]\n",
      "100%|██████████| 120/120 [00:00<00:00, 241.65it/s]\n"
     ]
    }
   ],
   "source": [
    "import numpy as np\n",
    "import pandas as pd\n",
    "import os\n",
    "import cv2\n",
    "import tqdm\n",
    "import matplotlib.pyplot as plt\n",
    "\n",
    "train_df = pd.read_csv('/kaggle/input/how-much-would-you-pay-for-a-fake-cat/train.csv')\n",
    "test_df = pd.read_csv('/kaggle/input/how-much-would-you-pay-for-a-fake-cat/test.csv')\n",
    "\n",
    "image_dir = '/kaggle/input/part-3-resizing-our-images/resized'\n",
    "\n",
    "def load_image_data(ids):\n",
    "    image_data = []\n",
    "    for img_id in tqdm.tqdm(ids):\n",
    "        img_path = os.path.join(image_dir, img_id + '.png')\n",
    "        im = cv2.imread(img_path)\n",
    "        im = im / 255\n",
    "        im = np.expand_dims(im, axis=-1)\n",
    "        image_data.append(im)\n",
    "    return image_data\n",
    "\n",
    "train_images = load_image_data(train_df['id'])\n",
    "test_images = load_image_data(test_df['id'])"
   ]
  },
  {
   "cell_type": "code",
   "execution_count": 2,
   "id": "9d8687ee",
   "metadata": {
    "execution": {
     "iopub.execute_input": "2023-12-23T05:28:37.131064Z",
     "iopub.status.busy": "2023-12-23T05:28:37.130703Z",
     "iopub.status.idle": "2023-12-23T05:28:38.903778Z",
     "shell.execute_reply": "2023-12-23T05:28:38.902985Z"
    },
    "papermill": {
     "duration": 1.788385,
     "end_time": "2023-12-23T05:28:38.906078",
     "exception": false,
     "start_time": "2023-12-23T05:28:37.117693",
     "status": "completed"
    },
    "tags": []
   },
   "outputs": [],
   "source": [
    "train_image_data = np.array(train_images).astype(np.float16)\n",
    "test_image_data = np.array(test_images).astype(np.float16)"
   ]
  },
  {
   "cell_type": "code",
   "execution_count": 3,
   "id": "412b4613",
   "metadata": {
    "execution": {
     "iopub.execute_input": "2023-12-23T05:28:38.931679Z",
     "iopub.status.busy": "2023-12-23T05:28:38.931333Z",
     "iopub.status.idle": "2023-12-23T05:28:38.944776Z",
     "shell.execute_reply": "2023-12-23T05:28:38.943911Z"
    },
    "papermill": {
     "duration": 0.028532,
     "end_time": "2023-12-23T05:28:38.946799",
     "exception": false,
     "start_time": "2023-12-23T05:28:38.918267",
     "status": "completed"
    },
    "tags": []
   },
   "outputs": [
    {
     "data": {
      "text/plain": [
       "array([ 2.13,  0.46, 10.  , ...,  1.44,  2.5 , 40.  ], dtype=float16)"
      ]
     },
     "execution_count": 3,
     "metadata": {},
     "output_type": "execute_result"
    }
   ],
   "source": [
    "train_df['price'] = train_df['price'].apply(lambda p: p.replace(',', ''))\n",
    "train_labels = train_df['price'].values.astype(np.float16)\n",
    "train_labels = np.clip(train_labels, 0, 100)\n",
    "train_labels"
   ]
  },
  {
   "cell_type": "code",
   "execution_count": 4,
   "id": "9eff800a",
   "metadata": {
    "execution": {
     "iopub.execute_input": "2023-12-23T05:28:38.972106Z",
     "iopub.status.busy": "2023-12-23T05:28:38.971786Z",
     "iopub.status.idle": "2023-12-23T05:28:38.985009Z",
     "shell.execute_reply": "2023-12-23T05:28:38.984232Z"
    },
    "papermill": {
     "duration": 0.028422,
     "end_time": "2023-12-23T05:28:38.987277",
     "exception": false,
     "start_time": "2023-12-23T05:28:38.958855",
     "status": "completed"
    },
    "tags": []
   },
   "outputs": [],
   "source": [
    "import re\n",
    "\n",
    "unit_map = {\n",
    "    'm': 1,\n",
    "    'h': 60,\n",
    "    'd': 60*24,\n",
    "    'w': 60*24*7,\n",
    "}\n",
    "\n",
    "# This function takes a speed string from out dataset\n",
    "# and returns the number of minutes it represents\n",
    "def clean_speed(speed_str):\n",
    "    cooldown_str = re.findall('\\((\\d+[mhdw])\\)', speed_str)[0]\n",
    "    # At this point `cooldown_str` looks like \"24h\"\n",
    "    cooldown_count = int(cooldown_str[:-1])\n",
    "    cooldown_unit = cooldown_str[-1]\n",
    "    return cooldown_count * unit_map[cooldown_unit]\n",
    "\n",
    "train_speed = train_df['speed'].apply(clean_speed)\n",
    "test_speed = test_df['speed'].apply(clean_speed)"
   ]
  },
  {
   "cell_type": "code",
   "execution_count": 5,
   "id": "9a6d6dd0",
   "metadata": {
    "execution": {
     "iopub.execute_input": "2023-12-23T05:28:39.012955Z",
     "iopub.status.busy": "2023-12-23T05:28:39.012610Z",
     "iopub.status.idle": "2023-12-23T05:28:39.896438Z",
     "shell.execute_reply": "2023-12-23T05:28:39.895325Z"
    },
    "papermill": {
     "duration": 0.899508,
     "end_time": "2023-12-23T05:28:39.898943",
     "exception": false,
     "start_time": "2023-12-23T05:28:38.999435",
     "status": "completed"
    },
    "tags": []
   },
   "outputs": [
    {
     "name": "stderr",
     "output_type": "stream",
     "text": [
      "/opt/conda/lib/python3.10/site-packages/scipy/__init__.py:146: UserWarning: A NumPy version >=1.16.5 and <1.23.0 is required for this version of SciPy (detected version 1.23.5\n",
      "  warnings.warn(f\"A NumPy version >={np_minversion} and <{np_maxversion}\"\n"
     ]
    }
   ],
   "source": [
    "from sklearn.model_selection import train_test_split\n",
    "\n",
    "# image_train, image_val, speed_train, speed_val, label_train, label_val = train_test_split(\n",
    "#     train_image_data, train_speed, train_labels, test_size=.2, random_state=1)"
   ]
  },
  {
   "cell_type": "code",
   "execution_count": 6,
   "id": "fbbb8c3f",
   "metadata": {
    "execution": {
     "iopub.execute_input": "2023-12-23T05:28:39.924842Z",
     "iopub.status.busy": "2023-12-23T05:28:39.924014Z",
     "iopub.status.idle": "2023-12-23T05:28:39.928282Z",
     "shell.execute_reply": "2023-12-23T05:28:39.927398Z"
    },
    "papermill": {
     "duration": 0.019146,
     "end_time": "2023-12-23T05:28:39.930214",
     "exception": false,
     "start_time": "2023-12-23T05:28:39.911068",
     "status": "completed"
    },
    "tags": []
   },
   "outputs": [],
   "source": [
    "# print(image_train.shape)\n",
    "# print(image_val.shape)\n",
    "# print(speed_train.shape)\n",
    "# print(speed_val.shape)\n",
    "# print(label_train.shape)\n",
    "# print(label_val.shape)"
   ]
  },
  {
   "cell_type": "code",
   "execution_count": 7,
   "id": "3d8a93cb",
   "metadata": {
    "execution": {
     "iopub.execute_input": "2023-12-23T05:28:39.956352Z",
     "iopub.status.busy": "2023-12-23T05:28:39.955970Z",
     "iopub.status.idle": "2023-12-23T05:28:51.058661Z",
     "shell.execute_reply": "2023-12-23T05:28:51.057833Z"
    },
    "papermill": {
     "duration": 11.118039,
     "end_time": "2023-12-23T05:28:51.060970",
     "exception": false,
     "start_time": "2023-12-23T05:28:39.942931",
     "status": "completed"
    },
    "tags": []
   },
   "outputs": [],
   "source": [
    "from tensorflow.keras.layers import Input, Dense, Concatenate, Flatten, Conv2D, MaxPooling2D, BatchNormalization\n",
    "from tensorflow.keras import Model\n",
    "\n",
    "# Image Model\n",
    "image_input = Input(shape=(200,200,3,))\n",
    "image_model = Conv2D(16, (3, 3), activation=\"relu\")(image_input)\n",
    "image_model = MaxPooling2D((2,2))(image_model)\n",
    "image_model = Conv2D(6, (3, 3), activation=\"relu\")(image_input)\n",
    "image_model = Flatten()(image_model)\n",
    "image_model = Dense(32, activation='relu')(image_model)\n",
    "image_model = Model(inputs=image_input, outputs=image_model)\n",
    "\n",
    "# Speed Model\n",
    "speed_input = Input(shape=(1,))\n",
    "speed_model = Dense(32, activation=\"sigmoid\")(speed_input)\n",
    "speed_model = Model(inputs=speed_input, outputs=speed_model)\n",
    "\n",
    "# combine the output of the two branches\n",
    "combined_layer = Concatenate()([image_model.output, speed_model.output])\n",
    "\n",
    "# apply a FC layer and then a regression prediction on the\n",
    "# combined outputs\n",
    "final_model = Dense(2, activation=\"relu\")(combined_layer)\n",
    "final_model = Dense(1, activation=\"linear\")(final_model)\n",
    "# our model will accept the inputs of the two branches and\n",
    "# then output a single value\n",
    "model = Model(\n",
    "    inputs=[image_model.input, speed_model.input],\n",
    "    outputs=final_model)"
   ]
  },
  {
   "cell_type": "code",
   "execution_count": 8,
   "id": "55dee78d",
   "metadata": {
    "execution": {
     "iopub.execute_input": "2023-12-23T05:28:51.086866Z",
     "iopub.status.busy": "2023-12-23T05:28:51.086532Z",
     "iopub.status.idle": "2023-12-23T05:28:51.131186Z",
     "shell.execute_reply": "2023-12-23T05:28:51.130267Z"
    },
    "papermill": {
     "duration": 0.066733,
     "end_time": "2023-12-23T05:28:51.140011",
     "exception": false,
     "start_time": "2023-12-23T05:28:51.073278",
     "status": "completed"
    },
    "tags": []
   },
   "outputs": [
    {
     "name": "stdout",
     "output_type": "stream",
     "text": [
      "Model: \"model_2\"\n",
      "__________________________________________________________________________________________________\n",
      " Layer (type)                   Output Shape         Param #     Connected to                     \n",
      "==================================================================================================\n",
      " input_1 (InputLayer)           [(None, 200, 200, 3  0           []                               \n",
      "                                )]                                                                \n",
      "                                                                                                  \n",
      " conv2d_1 (Conv2D)              (None, 198, 198, 6)  168         ['input_1[0][0]']                \n",
      "                                                                                                  \n",
      " flatten (Flatten)              (None, 235224)       0           ['conv2d_1[0][0]']               \n",
      "                                                                                                  \n",
      " input_2 (InputLayer)           [(None, 1)]          0           []                               \n",
      "                                                                                                  \n",
      " dense (Dense)                  (None, 32)           7527200     ['flatten[0][0]']                \n",
      "                                                                                                  \n",
      " dense_1 (Dense)                (None, 32)           64          ['input_2[0][0]']                \n",
      "                                                                                                  \n",
      " concatenate (Concatenate)      (None, 64)           0           ['dense[0][0]',                  \n",
      "                                                                  'dense_1[0][0]']                \n",
      "                                                                                                  \n",
      " dense_2 (Dense)                (None, 2)            130         ['concatenate[0][0]']            \n",
      "                                                                                                  \n",
      " dense_3 (Dense)                (None, 1)            3           ['dense_2[0][0]']                \n",
      "                                                                                                  \n",
      "==================================================================================================\n",
      "Total params: 7,527,565\n",
      "Trainable params: 7,527,565\n",
      "Non-trainable params: 0\n",
      "__________________________________________________________________________________________________\n"
     ]
    }
   ],
   "source": [
    "from tensorflow.keras.optimizers import Adam\n",
    "model.compile(loss='mean_absolute_error', optimizer=Adam(learning_rate=0.004))\n",
    "model.summary()"
   ]
  },
  {
   "cell_type": "code",
   "execution_count": 9,
   "id": "5af22168",
   "metadata": {
    "execution": {
     "iopub.execute_input": "2023-12-23T05:28:51.169581Z",
     "iopub.status.busy": "2023-12-23T05:28:51.169229Z",
     "iopub.status.idle": "2023-12-23T05:29:32.543853Z",
     "shell.execute_reply": "2023-12-23T05:29:32.542906Z"
    },
    "papermill": {
     "duration": 41.392406,
     "end_time": "2023-12-23T05:29:32.546326",
     "exception": false,
     "start_time": "2023-12-23T05:28:51.153920",
     "status": "completed"
    },
    "tags": []
   },
   "outputs": [
    {
     "name": "stdout",
     "output_type": "stream",
     "text": [
      "Epoch 1/40\n",
      "50/50 [==============================] - 10s 30ms/step - loss: 12.6839 - val_loss: 12.5794\n",
      "Epoch 2/40\n",
      "50/50 [==============================] - 1s 15ms/step - loss: 12.4245 - val_loss: 12.4143\n",
      "Epoch 3/40\n",
      "50/50 [==============================] - 1s 14ms/step - loss: 12.2735 - val_loss: 12.2833\n",
      "Epoch 4/40\n",
      "50/50 [==============================] - 1s 15ms/step - loss: 12.1633 - val_loss: 12.1858\n",
      "Epoch 5/40\n",
      "50/50 [==============================] - 1s 15ms/step - loss: 12.0834 - val_loss: 12.1236\n",
      "Epoch 6/40\n",
      "50/50 [==============================] - 1s 15ms/step - loss: 12.0267 - val_loss: 12.0781\n",
      "Epoch 7/40\n",
      "50/50 [==============================] - 1s 15ms/step - loss: 11.9841 - val_loss: 12.0484\n",
      "Epoch 8/40\n",
      "50/50 [==============================] - 1s 15ms/step - loss: 11.9648 - val_loss: 12.0332\n",
      "Epoch 9/40\n",
      "50/50 [==============================] - 1s 15ms/step - loss: 11.9505 - val_loss: 12.0196\n",
      "Epoch 10/40\n",
      "50/50 [==============================] - 1s 14ms/step - loss: 11.9373 - val_loss: 12.0071\n",
      "Epoch 11/40\n",
      "50/50 [==============================] - 1s 15ms/step - loss: 11.9277 - val_loss: 11.9980\n",
      "Epoch 12/40\n",
      "50/50 [==============================] - 1s 15ms/step - loss: 11.9208 - val_loss: 11.9899\n",
      "Epoch 13/40\n",
      "50/50 [==============================] - 1s 15ms/step - loss: 11.9141 - val_loss: 11.9833\n",
      "Epoch 14/40\n",
      "50/50 [==============================] - 1s 15ms/step - loss: 11.9080 - val_loss: 11.9766\n",
      "Epoch 15/40\n",
      "50/50 [==============================] - 1s 15ms/step - loss: 11.9021 - val_loss: 11.9705\n",
      "Epoch 16/40\n",
      "50/50 [==============================] - 1s 15ms/step - loss: 11.8986 - val_loss: 11.9694\n",
      "Epoch 17/40\n",
      "50/50 [==============================] - 1s 15ms/step - loss: 11.8981 - val_loss: 11.9680\n",
      "Epoch 18/40\n",
      "50/50 [==============================] - 1s 15ms/step - loss: 11.8968 - val_loss: 11.9675\n",
      "Epoch 19/40\n",
      "50/50 [==============================] - 1s 14ms/step - loss: 11.8960 - val_loss: 11.9669\n",
      "Epoch 20/40\n",
      "50/50 [==============================] - 1s 14ms/step - loss: 11.8952 - val_loss: 11.9660\n",
      "Epoch 21/40\n",
      "50/50 [==============================] - 1s 15ms/step - loss: 11.8943 - val_loss: 11.9656\n",
      "Epoch 22/40\n",
      "50/50 [==============================] - 1s 15ms/step - loss: 11.8935 - val_loss: 11.9645\n",
      "Epoch 23/40\n",
      "50/50 [==============================] - 1s 15ms/step - loss: 11.8927 - val_loss: 11.9639\n",
      "Epoch 24/40\n",
      "50/50 [==============================] - 1s 14ms/step - loss: 11.8918 - val_loss: 11.9633\n",
      "Epoch 25/40\n",
      "50/50 [==============================] - 1s 15ms/step - loss: 11.8913 - val_loss: 11.9624\n",
      "Epoch 26/40\n",
      "50/50 [==============================] - 1s 15ms/step - loss: 11.8907 - val_loss: 11.9619\n",
      "Epoch 27/40\n",
      "50/50 [==============================] - 1s 15ms/step - loss: 11.8902 - val_loss: 11.9612\n",
      "Epoch 28/40\n",
      "50/50 [==============================] - 1s 15ms/step - loss: 11.8897 - val_loss: 11.9609\n",
      "Epoch 29/40\n",
      "50/50 [==============================] - 1s 15ms/step - loss: 11.8892 - val_loss: 11.9604\n",
      "Epoch 30/40\n",
      "50/50 [==============================] - 1s 15ms/step - loss: 11.8889 - val_loss: 11.9599\n",
      "Epoch 31/40\n",
      "50/50 [==============================] - 1s 15ms/step - loss: 11.8885 - val_loss: 11.9599\n",
      "Epoch 32/40\n",
      "50/50 [==============================] - 1s 15ms/step - loss: 11.8886 - val_loss: 11.9598\n",
      "Epoch 33/40\n",
      "50/50 [==============================] - 1s 15ms/step - loss: 11.8885 - val_loss: 11.9598\n",
      "Epoch 34/40\n",
      "50/50 [==============================] - 1s 15ms/step - loss: 11.8885 - val_loss: 11.9596\n",
      "Epoch 35/40\n",
      "50/50 [==============================] - 1s 15ms/step - loss: 11.8886 - val_loss: 11.9595\n",
      "Epoch 36/40\n",
      "50/50 [==============================] - 1s 15ms/step - loss: 11.8885 - val_loss: 11.9595\n",
      "Epoch 37/40\n",
      "50/50 [==============================] - 1s 15ms/step - loss: 11.8885 - val_loss: 11.9594\n",
      "Epoch 38/40\n",
      "50/50 [==============================] - 1s 15ms/step - loss: 11.8885 - val_loss: 11.9591\n",
      "Epoch 39/40\n",
      "50/50 [==============================] - 1s 15ms/step - loss: 11.8885 - val_loss: 11.9592\n",
      "Epoch 40/40\n",
      "50/50 [==============================] - 1s 15ms/step - loss: 11.8883 - val_loss: 11.9592\n"
     ]
    }
   ],
   "source": [
    "history = model.fit(\n",
    "    x=(train_image_data, train_speed),\n",
    "    y=train_labels,\n",
    "    validation_split=0.2,\n",
    "    epochs=40)"
   ]
  },
  {
   "cell_type": "code",
   "execution_count": 10,
   "id": "b19168ee",
   "metadata": {
    "execution": {
     "iopub.execute_input": "2023-12-23T05:29:32.655842Z",
     "iopub.status.busy": "2023-12-23T05:29:32.655102Z",
     "iopub.status.idle": "2023-12-23T05:29:33.000129Z",
     "shell.execute_reply": "2023-12-23T05:29:32.999165Z"
    },
    "papermill": {
     "duration": 0.400526,
     "end_time": "2023-12-23T05:29:33.002222",
     "exception": false,
     "start_time": "2023-12-23T05:29:32.601696",
     "status": "completed"
    },
    "tags": []
   },
   "outputs": [
    {
     "data": {
      "text/plain": [
       "<matplotlib.legend.Legend at 0x7ac9f3e00e20>"
      ]
     },
     "execution_count": 10,
     "metadata": {},
     "output_type": "execute_result"
    },
    {
     "data": {
      "image/png": "[encoded data removed]",
      "text/plain": [
       "<Figure size 640x480 with 1 Axes>"
      ]
     },
     "metadata": {},
     "output_type": "display_data"
    }
   ],
   "source": [
    "plt.plot(history.history['loss'])\n",
    "plt.plot(history.history['val_loss'])\n",
    "plt.legend(['loss', 'val_loss'], loc='upper left')"
   ]
  },
  {
   "cell_type": "code",
   "execution_count": 11,
   "id": "d0a5d8b3",
   "metadata": {
    "execution": {
     "iopub.execute_input": "2023-12-23T05:29:33.113683Z",
     "iopub.status.busy": "2023-12-23T05:29:33.113008Z",
     "iopub.status.idle": "2023-12-23T05:29:33.526310Z",
     "shell.execute_reply": "2023-12-23T05:29:33.525428Z"
    },
    "papermill": {
     "duration": 0.470331,
     "end_time": "2023-12-23T05:29:33.528651",
     "exception": false,
     "start_time": "2023-12-23T05:29:33.058320",
     "status": "completed"
    },
    "tags": []
   },
   "outputs": [
    {
     "name": "stdout",
     "output_type": "stream",
     "text": [
      "4/4 [==============================] - 0s 20ms/step\n"
     ]
    }
   ],
   "source": [
    "test_df['price'] = model.predict((test_image_data, test_speed))"
   ]
  },
  {
   "cell_type": "code",
   "execution_count": 12,
   "id": "c3f4830e",
   "metadata": {
    "execution": {
     "iopub.execute_input": "2023-12-23T05:29:33.689437Z",
     "iopub.status.busy": "2023-12-23T05:29:33.688709Z",
     "iopub.status.idle": "2023-12-23T05:29:33.950534Z",
     "shell.execute_reply": "2023-12-23T05:29:33.949562Z"
    },
    "papermill": {
     "duration": 0.319242,
     "end_time": "2023-12-23T05:29:33.952641",
     "exception": false,
     "start_time": "2023-12-23T05:29:33.633399",
     "status": "completed"
    },
    "tags": []
   },
   "outputs": [
    {
     "data": {
      "text/plain": [
       "(array([  0.,   0.,   0.,   0.,   0., 120.,   0.,   0.,   0.,   0.]),\n",
       " array([1.33667541, 1.43667543, 1.53667545, 1.63667536, 1.73667538,\n",
       "        1.83667541, 1.93667543, 2.03667545, 2.13667536, 2.2366755 ,\n",
       "        2.33667541]),\n",
       " <BarContainer object of 10 artists>)"
      ]
     },
     "execution_count": 12,
     "metadata": {},
     "output_type": "execute_result"
    },
    {
     "data": {
      "image/png": "[encoded data removed]",
      "text/plain": [
       "<Figure size 640x480 with 1 Axes>"
      ]
     },
     "metadata": {},
     "output_type": "display_data"
    }
   ],
   "source": [
    "plt.hist(test_df['price'])"
   ]
  },
  {
   "cell_type": "code",
   "execution_count": 13,
   "id": "89ca242e",
   "metadata": {
    "execution": {
     "iopub.execute_input": "2023-12-23T05:29:34.064996Z",
     "iopub.status.busy": "2023-12-23T05:29:34.064340Z",
     "iopub.status.idle": "2023-12-23T05:29:34.076882Z",
     "shell.execute_reply": "2023-12-23T05:29:34.076056Z"
    },
    "papermill": {
     "duration": 0.072089,
     "end_time": "2023-12-23T05:29:34.078941",
     "exception": false,
     "start_time": "2023-12-23T05:29:34.006852",
     "status": "completed"
    },
    "tags": []
   },
   "outputs": [],
   "source": [
    "test_df[['id', 'price']].to_csv('submission.csv', index=False)"
   ]
  },
  {
   "cell_type": "code",
   "execution_count": null,
   "id": "d5f80bee",
   "metadata": {
    "papermill": {
     "duration": 0.053323,
     "end_time": "2023-12-23T05:29:34.187904",
     "exception": false,
     "start_time": "2023-12-23T05:29:34.134581",
     "status": "completed"
    },
    "tags": []
   },
   "outputs": [],
   "source": []
  }
 ],
 "metadata": {
  "kaggle": {
   "accelerator": "gpu",
   "dataSources": [
    {
     "databundleVersionId": 6487581,
     "sourceId": 60121,
     "sourceType": "competition"
    },
    {
     "sourceId": 142174784,
     "sourceType": "kernelVersion"
    }
   ],
   "dockerImageVersionId": 30554,
   "isGpuEnabled": true,
   "isInternetEnabled": true,
   "language": "python",
   "sourceType": "notebook"
  },
  "kernelspec": {
   "display_name": "Python 3",
   "language": "python",
   "name": "python3"
  },
  "language_info": {
   "codemirror_mode": {
    "name": "ipython",
    "version": 3
   },
   "file_extension": ".py",
   "mimetype": "text/x-python",
   "name": "python",
   "nbconvert_exporter": "python",
   "pygments_lexer": "ipython3",
   "version": "3.10.12"
  },
  "papermill": {
   "default_parameters": {},
   "duration": 74.624475,
   "end_time": "2023-12-23T05:29:37.675655",
   "environment_variables": {},
   "exception": null,
   "input_path": "__notebook__.ipynb",
   "output_path": "__notebook__.ipynb",
   "parameters": {},
   "start_time": "2023-12-23T05:28:23.051180",
   "version": "2.4.0"
  }
 },
 "nbformat": 4,
 "nbformat_minor": 5
}
