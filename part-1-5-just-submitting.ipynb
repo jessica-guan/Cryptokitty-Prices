{
 "cells": [
  {
   "cell_type": "code",
   "execution_count": 1,
   "id": "247ef2e7",
   "metadata": {
    "execution": {
     "iopub.execute_input": "2023-12-23T05:22:53.285084Z",
     "iopub.status.busy": "2023-12-23T05:22:53.284724Z",
     "iopub.status.idle": "2023-12-23T05:22:54.086484Z",
     "shell.execute_reply": "2023-12-23T05:22:54.085110Z"
    },
    "papermill": {
     "duration": 0.807265,
     "end_time": "2023-12-23T05:22:54.088728",
     "exception": false,
     "start_time": "2023-12-23T05:22:53.281463",
     "status": "completed"
    },
    "tags": []
   },
   "outputs": [],
   "source": [
    "import pandas as pd\n",
    "sample_submission_df = pd.read_csv('/kaggle/input/how-much-would-you-pay-for-a-fake-cat/sample_submission.csv')\n",
    "sample_submission_df.to_csv('submission.csv', index=False)"
   ]
  },
  {
   "cell_type": "code",
   "execution_count": null,
   "id": "94fd121b",
   "metadata": {
    "papermill": {
     "duration": 0.001034,
     "end_time": "2023-12-23T05:22:54.091392",
     "exception": false,
     "start_time": "2023-12-23T05:22:54.090358",
     "status": "completed"
    },
    "tags": []
   },
   "outputs": [],
   "source": []
  }
 ],
 "metadata": {
  "kaggle": {
   "accelerator": "none",
   "dataSources": [
    {
     "databundleVersionId": 6487581,
     "sourceId": 60121,
     "sourceType": "competition"
    }
   ],
   "dockerImageVersionId": 30553,
   "isGpuEnabled": false,
   "isInternetEnabled": true,
   "language": "python",
   "sourceType": "notebook"
  },
  "kernelspec": {
   "display_name": "Python 3",
   "language": "python",
   "name": "python3"
  },
  "language_info": {
   "codemirror_mode": {
    "name": "ipython",
    "version": 3
   },
   "file_extension": ".py",
   "mimetype": "text/x-python",
   "name": "python",
   "nbconvert_exporter": "python",
   "pygments_lexer": "ipython3",
   "version": "3.10.12"
  },
  "papermill": {
   "default_parameters": {},
   "duration": 4.478554,
   "end_time": "2023-12-23T05:22:54.512706",
   "environment_variables": {},
   "exception": null,
   "input_path": "__notebook__.ipynb",
   "output_path": "__notebook__.ipynb",
   "parameters": {},
   "start_time": "2023-12-23T05:22:50.034152",
   "version": "2.4.0"
  }
 },
 "nbformat": 4,
 "nbformat_minor": 5
}
