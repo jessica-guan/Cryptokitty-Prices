{
 "cells": [
  {
   "cell_type": "code",
   "execution_count": 1,
   "id": "674bbed3",
   "metadata": {
    "execution": {
     "iopub.execute_input": "2023-12-23T05:23:00.009049Z",
     "iopub.status.busy": "2023-12-23T05:23:00.008646Z",
     "iopub.status.idle": "2023-12-23T05:23:00.838798Z",
     "shell.execute_reply": "2023-12-23T05:23:00.837841Z"
    },
    "papermill": {
     "duration": 0.836058,
     "end_time": "2023-12-23T05:23:00.841148",
     "exception": false,
     "start_time": "2023-12-23T05:23:00.005090",
     "status": "completed"
    },
    "tags": []
   },
   "outputs": [],
   "source": [
    "import pandas as pd\n",
    "sample_submission_df = pd.read_csv('/kaggle/input/how-much-would-you-pay-for-a-fake-cat/sample_submission.csv')\n",
    "sample_submission_df.to_csv('submission.csv', index=False)"
   ]
  },
  {
   "cell_type": "code",
   "execution_count": null,
   "id": "de4e324f",
   "metadata": {
    "papermill": {
     "duration": 0.00119,
     "end_time": "2023-12-23T05:23:00.843987",
     "exception": false,
     "start_time": "2023-12-23T05:23:00.842797",
     "status": "completed"
    },
    "tags": []
   },
   "outputs": [],
   "source": []
  }
 ],
 "metadata": {
  "kaggle": {
   "accelerator": "none",
   "dataSources": [
    {
     "databundleVersionId": 6487581,
     "sourceId": 60121,
     "sourceType": "competition"
    }
   ],
   "dockerImageVersionId": 30553,
   "isGpuEnabled": false,
   "isInternetEnabled": true,
   "language": "python",
   "sourceType": "notebook"
  },
  "kernelspec": {
   "display_name": "Python 3",
   "language": "python",
   "name": "python3"
  },
  "language_info": {
   "codemirror_mode": {
    "name": "ipython",
    "version": 3
   },
   "file_extension": ".py",
   "mimetype": "text/x-python",
   "name": "python",
   "nbconvert_exporter": "python",
   "pygments_lexer": "ipython3",
   "version": "3.10.12"
  },
  "papermill": {
   "default_parameters": {},
   "duration": 4.569421,
   "end_time": "2023-12-23T05:23:01.266814",
   "environment_variables": {},
   "exception": null,
   "input_path": "__notebook__.ipynb",
   "output_path": "__notebook__.ipynb",
   "parameters": {},
   "start_time": "2023-12-23T05:22:56.697393",
   "version": "2.4.0"
  }
 },
 "nbformat": 4,
 "nbformat_minor": 5
}
