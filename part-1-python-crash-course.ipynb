{
 "cells": [
  {
   "cell_type": "markdown",
   "id": "57be6b68",
   "metadata": {
    "_cell_guid": "b1076dfc-b9ad-4769-8c92-a6c4dae69d19",
    "_uuid": "8f2839f25d086af736a60e9eeb907d3b93b6e0e5",
    "papermill": {
     "duration": 0.015523,
     "end_time": "2023-12-23T05:22:47.736998",
     "exception": false,
     "start_time": "2023-12-23T05:22:47.721475",
     "status": "completed"
    },
    "tags": []
   },
   "source": [
    "# Part 1: Python Crash Course\n",
    "\n",
    "In this notebook we'll do a quick refresher on python, and see how we can use it and a library called Pandas to explore our data!"
   ]
  },
  {
   "cell_type": "markdown",
   "id": "de39b4e7",
   "metadata": {
    "papermill": {
     "duration": 0.013688,
     "end_time": "2023-12-23T05:22:47.765057",
     "exception": false,
     "start_time": "2023-12-23T05:22:47.751369",
     "status": "completed"
    },
    "tags": []
   },
   "source": [
    "## Variables and Arithmetic"
   ]
  },
  {
   "cell_type": "code",
   "execution_count": 1,
   "id": "5cd97a08",
   "metadata": {
    "execution": {
     "iopub.execute_input": "2023-12-23T05:22:47.797753Z",
     "iopub.status.busy": "2023-12-23T05:22:47.797167Z",
     "iopub.status.idle": "2023-12-23T05:22:47.808883Z",
     "shell.execute_reply": "2023-12-23T05:22:47.807894Z"
    },
    "papermill": {
     "duration": 0.032057,
     "end_time": "2023-12-23T05:22:47.811103",
     "exception": false,
     "start_time": "2023-12-23T05:22:47.779046",
     "status": "completed"
    },
    "tags": []
   },
   "outputs": [
    {
     "data": {
      "text/plain": [
       "(6, 16.5, 'hello!', True)"
      ]
     },
     "execution_count": 1,
     "metadata": {},
     "output_type": "execute_result"
    }
   ],
   "source": [
    "# In Python we store data in variables with the assignment operator (=)\n",
    "my_integer = 6\n",
    "my_floating_point_number = 16.5\n",
    "my_string = \"hello!\"\n",
    "my_boolean = True\n",
    "\n",
    "# We can write variable names at the bottom of our cell to see them print out\n",
    "my_integer, my_floating_point_number, my_string, my_boolean"
   ]
  },
  {
   "cell_type": "code",
   "execution_count": 2,
   "id": "33472a07",
   "metadata": {
    "execution": {
     "iopub.execute_input": "2023-12-23T05:22:47.841420Z",
     "iopub.status.busy": "2023-12-23T05:22:47.841000Z",
     "iopub.status.idle": "2023-12-23T05:22:47.848306Z",
     "shell.execute_reply": "2023-12-23T05:22:47.847553Z"
    },
    "papermill": {
     "duration": 0.024739,
     "end_time": "2023-12-23T05:22:47.850222",
     "exception": false,
     "start_time": "2023-12-23T05:22:47.825483",
     "status": "completed"
    },
    "tags": []
   },
   "outputs": [
    {
     "data": {
      "text/plain": [
       "(34, 24, 145, 5.8, 20511149, 5)"
      ]
     },
     "execution_count": 2,
     "metadata": {},
     "output_type": "execute_result"
    }
   ],
   "source": [
    "# With numbers we can add, subtract, multipy and divide\n",
    "a = 29\n",
    "b = 5\n",
    "a_plus_b = a + b\n",
    "a_minus_b = a - b\n",
    "a_times_b = a * b\n",
    "a_divided_by_b = a / b\n",
    "a_to_the_power_of_b = a ** b\n",
    "a_int_divided_by_b = a // b\n",
    "\n",
    "a_plus_b, a_minus_b, a_times_b, a_divided_by_b, a_to_the_power_of_b, a_int_divided_by_b"
   ]
  },
  {
   "cell_type": "code",
   "execution_count": 3,
   "id": "bfb83967",
   "metadata": {
    "execution": {
     "iopub.execute_input": "2023-12-23T05:22:47.881637Z",
     "iopub.status.busy": "2023-12-23T05:22:47.881008Z",
     "iopub.status.idle": "2023-12-23T05:22:47.886479Z",
     "shell.execute_reply": "2023-12-23T05:22:47.885497Z"
    },
    "papermill": {
     "duration": 0.023511,
     "end_time": "2023-12-23T05:22:47.888596",
     "exception": false,
     "start_time": "2023-12-23T05:22:47.865085",
     "status": "completed"
    },
    "tags": []
   },
   "outputs": [
    {
     "data": {
      "text/plain": [
       "float"
      ]
     },
     "execution_count": 3,
     "metadata": {},
     "output_type": "execute_result"
    }
   ],
   "source": [
    "type(my_floating_point_number)"
   ]
  },
  {
   "cell_type": "code",
   "execution_count": 4,
   "id": "ee5ea78e",
   "metadata": {
    "execution": {
     "iopub.execute_input": "2023-12-23T05:22:47.920429Z",
     "iopub.status.busy": "2023-12-23T05:22:47.919910Z",
     "iopub.status.idle": "2023-12-23T05:22:47.926875Z",
     "shell.execute_reply": "2023-12-23T05:22:47.925893Z"
    },
    "papermill": {
     "duration": 0.025669,
     "end_time": "2023-12-23T05:22:47.929098",
     "exception": false,
     "start_time": "2023-12-23T05:22:47.903429",
     "status": "completed"
    },
    "tags": []
   },
   "outputs": [
    {
     "data": {
      "text/plain": [
       "(-12.0, 9.0)"
      ]
     },
     "execution_count": 4,
     "metadata": {},
     "output_type": "execute_result"
    }
   ],
   "source": [
    "# You can always group things in (parenthases) to do that part first--PEMDAS that shit\n",
    "calculation_one = (12 - (6 ** 2)) / 2\n",
    "calculation_two = 12 - (6 / 2)\n",
    "\n",
    "calculation_one, calculation_two"
   ]
  },
  {
   "cell_type": "code",
   "execution_count": 5,
   "id": "3cfd7ebd",
   "metadata": {
    "execution": {
     "iopub.execute_input": "2023-12-23T05:22:47.960601Z",
     "iopub.status.busy": "2023-12-23T05:22:47.959873Z",
     "iopub.status.idle": "2023-12-23T05:22:47.966338Z",
     "shell.execute_reply": "2023-12-23T05:22:47.965592Z"
    },
    "papermill": {
     "duration": 0.024328,
     "end_time": "2023-12-23T05:22:47.968298",
     "exception": false,
     "start_time": "2023-12-23T05:22:47.943970",
     "status": "completed"
    },
    "tags": []
   },
   "outputs": [
    {
     "data": {
      "text/plain": [
       "'Hello Will!'"
      ]
     },
     "execution_count": 5,
     "metadata": {},
     "output_type": "execute_result"
    }
   ],
   "source": [
    "# There are lots of cool things we can do with string too\n",
    "# We can use the + operator to concatenate strings\n",
    "\n",
    "my_name = 'Will'\n",
    "greeting = 'Hello ' + my_name + '!'\n",
    "\n",
    "greeting"
   ]
  },
  {
   "cell_type": "code",
   "execution_count": 6,
   "id": "f3f6c761",
   "metadata": {
    "execution": {
     "iopub.execute_input": "2023-12-23T05:22:47.999254Z",
     "iopub.status.busy": "2023-12-23T05:22:47.998574Z",
     "iopub.status.idle": "2023-12-23T05:22:48.005035Z",
     "shell.execute_reply": "2023-12-23T05:22:48.004240Z"
    },
    "papermill": {
     "duration": 0.024222,
     "end_time": "2023-12-23T05:22:48.006978",
     "exception": false,
     "start_time": "2023-12-23T05:22:47.982756",
     "status": "completed"
    },
    "tags": []
   },
   "outputs": [
    {
     "data": {
      "text/plain": [
       "\"My favorite coffee drink is a cortado. It's the best!\""
      ]
     },
     "execution_count": 6,
     "metadata": {},
     "output_type": "execute_result"
    }
   ],
   "source": [
    "# But _usually_ if we want to do something like that, we'll use a format string\n",
    "# Put an `f` before your string, then you can include variable names between {curly braces}\n",
    "\n",
    "drink_name = 'cortado'\n",
    "fun_fact = f'My favorite coffee drink is a {drink_name}. It\\'s the best!'\n",
    "\n",
    "fun_fact"
   ]
  },
  {
   "cell_type": "code",
   "execution_count": 7,
   "id": "25733e13",
   "metadata": {
    "execution": {
     "iopub.execute_input": "2023-12-23T05:22:48.038886Z",
     "iopub.status.busy": "2023-12-23T05:22:48.038231Z",
     "iopub.status.idle": "2023-12-23T05:22:48.045221Z",
     "shell.execute_reply": "2023-12-23T05:22:48.044203Z"
    },
    "papermill": {
     "duration": 0.025763,
     "end_time": "2023-12-23T05:22:48.047200",
     "exception": false,
     "start_time": "2023-12-23T05:22:48.021437",
     "status": "completed"
    },
    "tags": []
   },
   "outputs": [
    {
     "data": {
      "text/plain": [
       "(False, True, True)"
      ]
     },
     "execution_count": 7,
     "metadata": {},
     "output_type": "execute_result"
    }
   ],
   "source": [
    "# Booleans are always either True or False\n",
    "\n",
    "sunny_in_seattle = False\n",
    "i_want_coffee = True\n",
    "\n",
    "# We can use `and`, `or`, and `not` to play with our booleans\n",
    "\n",
    "sunny_in_seattle and i_want_coffee, sunny_in_seattle or i_want_coffee, i_want_coffee and not sunny_in_seattle"
   ]
  },
  {
   "cell_type": "code",
   "execution_count": null,
   "id": "2f1994bf",
   "metadata": {
    "papermill": {
     "duration": 0.014788,
     "end_time": "2023-12-23T05:22:48.077973",
     "exception": false,
     "start_time": "2023-12-23T05:22:48.063185",
     "status": "completed"
    },
    "tags": []
   },
   "outputs": [],
   "source": []
  },
  {
   "cell_type": "markdown",
   "id": "09ea8626",
   "metadata": {
    "papermill": {
     "duration": 0.014411,
     "end_time": "2023-12-23T05:22:48.107322",
     "exception": false,
     "start_time": "2023-12-23T05:22:48.092911",
     "status": "completed"
    },
    "tags": []
   },
   "source": [
    "## Lists and Dictionaries"
   ]
  },
  {
   "cell_type": "code",
   "execution_count": 8,
   "id": "6d788520",
   "metadata": {
    "execution": {
     "iopub.execute_input": "2023-12-23T05:22:48.139309Z",
     "iopub.status.busy": "2023-12-23T05:22:48.138703Z",
     "iopub.status.idle": "2023-12-23T05:22:48.145349Z",
     "shell.execute_reply": "2023-12-23T05:22:48.144546Z"
    },
    "papermill": {
     "duration": 0.024858,
     "end_time": "2023-12-23T05:22:48.147251",
     "exception": false,
     "start_time": "2023-12-23T05:22:48.122393",
     "status": "completed"
    },
    "tags": []
   },
   "outputs": [
    {
     "data": {
      "text/plain": [
       "['Nashville', 'Boston', 'Seattle', 'San Francisco']"
      ]
     },
     "execution_count": 8,
     "metadata": {},
     "output_type": "execute_result"
    }
   ],
   "source": [
    "# If we have multiples of one kind of variable, we can use a list\n",
    "# We can create a list with [square brackets], separating each value with commas\n",
    "cities = ['Nashville', 'Boston']\n",
    "\n",
    "# We can add a new element to the list with the .append method\n",
    "\n",
    "cities.append('Seattle')\n",
    "cities.append('San Francisco')\n",
    "\n",
    "cities"
   ]
  },
  {
   "cell_type": "code",
   "execution_count": 9,
   "id": "be97a83e",
   "metadata": {
    "execution": {
     "iopub.execute_input": "2023-12-23T05:22:48.180826Z",
     "iopub.status.busy": "2023-12-23T05:22:48.180131Z",
     "iopub.status.idle": "2023-12-23T05:22:48.186723Z",
     "shell.execute_reply": "2023-12-23T05:22:48.185870Z"
    },
    "papermill": {
     "duration": 0.026285,
     "end_time": "2023-12-23T05:22:48.188654",
     "exception": false,
     "start_time": "2023-12-23T05:22:48.162369",
     "status": "completed"
    },
    "tags": []
   },
   "outputs": [
    {
     "data": {
      "text/plain": [
       "('Nashville', 'Seattle', 'San Francisco')"
      ]
     },
     "execution_count": 9,
     "metadata": {},
     "output_type": "execute_result"
    }
   ],
   "source": [
    "# Above we see the whole list, but if we want to get a specific element in our list\n",
    "# we can index it, starting with 0. Just like strings!\n",
    "\n",
    "cities[0], cities[2], cities[3]"
   ]
  },
  {
   "cell_type": "code",
   "execution_count": 10,
   "id": "6aa21200",
   "metadata": {
    "execution": {
     "iopub.execute_input": "2023-12-23T05:22:48.222640Z",
     "iopub.status.busy": "2023-12-23T05:22:48.221963Z",
     "iopub.status.idle": "2023-12-23T05:22:48.226653Z",
     "shell.execute_reply": "2023-12-23T05:22:48.225930Z"
    },
    "papermill": {
     "duration": 0.024522,
     "end_time": "2023-12-23T05:22:48.228713",
     "exception": false,
     "start_time": "2023-12-23T05:22:48.204191",
     "status": "completed"
    },
    "tags": []
   },
   "outputs": [],
   "source": [
    "my_list = [1, 2, 3]\n",
    "my_tuple = (1, 2, 3)"
   ]
  },
  {
   "cell_type": "code",
   "execution_count": 11,
   "id": "e4eef827",
   "metadata": {
    "execution": {
     "iopub.execute_input": "2023-12-23T05:22:48.261205Z",
     "iopub.status.busy": "2023-12-23T05:22:48.260572Z",
     "iopub.status.idle": "2023-12-23T05:22:48.266949Z",
     "shell.execute_reply": "2023-12-23T05:22:48.265949Z"
    },
    "papermill": {
     "duration": 0.024652,
     "end_time": "2023-12-23T05:22:48.268890",
     "exception": false,
     "start_time": "2023-12-23T05:22:48.244238",
     "status": "completed"
    },
    "tags": []
   },
   "outputs": [
    {
     "data": {
      "text/plain": [
       "[1, 2, 7]"
      ]
     },
     "execution_count": 11,
     "metadata": {},
     "output_type": "execute_result"
    }
   ],
   "source": [
    "# mutable: can be changed\n",
    "# immutable: cannot be changed\n",
    "my_list[2] = 7\n",
    "my_list"
   ]
  },
  {
   "cell_type": "code",
   "execution_count": 12,
   "id": "2a3db50a",
   "metadata": {
    "execution": {
     "iopub.execute_input": "2023-12-23T05:22:48.301230Z",
     "iopub.status.busy": "2023-12-23T05:22:48.300589Z",
     "iopub.status.idle": "2023-12-23T05:22:48.306655Z",
     "shell.execute_reply": "2023-12-23T05:22:48.305788Z"
    },
    "papermill": {
     "duration": 0.02463,
     "end_time": "2023-12-23T05:22:48.308605",
     "exception": false,
     "start_time": "2023-12-23T05:22:48.283975",
     "status": "completed"
    },
    "tags": []
   },
   "outputs": [
    {
     "data": {
      "text/plain": [
       "tuple"
      ]
     },
     "execution_count": 12,
     "metadata": {},
     "output_type": "execute_result"
    }
   ],
   "source": [
    "type(my_tuple)"
   ]
  },
  {
   "cell_type": "code",
   "execution_count": 13,
   "id": "71022a7a",
   "metadata": {
    "execution": {
     "iopub.execute_input": "2023-12-23T05:22:48.342177Z",
     "iopub.status.busy": "2023-12-23T05:22:48.341542Z",
     "iopub.status.idle": "2023-12-23T05:22:48.348182Z",
     "shell.execute_reply": "2023-12-23T05:22:48.347319Z"
    },
    "papermill": {
     "duration": 0.025272,
     "end_time": "2023-12-23T05:22:48.350131",
     "exception": false,
     "start_time": "2023-12-23T05:22:48.324859",
     "status": "completed"
    },
    "tags": []
   },
   "outputs": [
    {
     "data": {
      "text/plain": [
       "{'Nashville': 692587, 'Boston': 684379}"
      ]
     },
     "execution_count": 13,
     "metadata": {},
     "output_type": "execute_result"
    }
   ],
   "source": [
    "# Sometimes out data doesn't really fit in a list--if we have pairs of values we can use a dictionary!\n",
    "city_populations = {\n",
    "    # Nashville is the key, 692587 is the value\n",
    "    'Nashville': 692587,\n",
    "    'Boston': 684379\n",
    "}\n",
    "\n",
    "city_populations"
   ]
  },
  {
   "cell_type": "code",
   "execution_count": 14,
   "id": "a77dc83b",
   "metadata": {
    "execution": {
     "iopub.execute_input": "2023-12-23T05:22:48.385688Z",
     "iopub.status.busy": "2023-12-23T05:22:48.385066Z",
     "iopub.status.idle": "2023-12-23T05:22:48.391069Z",
     "shell.execute_reply": "2023-12-23T05:22:48.390179Z"
    },
    "papermill": {
     "duration": 0.026744,
     "end_time": "2023-12-23T05:22:48.392945",
     "exception": false,
     "start_time": "2023-12-23T05:22:48.366201",
     "status": "completed"
    },
    "tags": []
   },
   "outputs": [
    {
     "data": {
      "text/plain": [
       "692587"
      ]
     },
     "execution_count": 14,
     "metadata": {},
     "output_type": "execute_result"
    }
   ],
   "source": [
    "# To get a specific value, we can index it with the key:\n",
    "city_populations['Nashville']"
   ]
  },
  {
   "cell_type": "code",
   "execution_count": 15,
   "id": "dcc55b17",
   "metadata": {
    "execution": {
     "iopub.execute_input": "2023-12-23T05:22:48.425743Z",
     "iopub.status.busy": "2023-12-23T05:22:48.425125Z",
     "iopub.status.idle": "2023-12-23T05:22:48.431473Z",
     "shell.execute_reply": "2023-12-23T05:22:48.430700Z"
    },
    "papermill": {
     "duration": 0.025009,
     "end_time": "2023-12-23T05:22:48.433354",
     "exception": false,
     "start_time": "2023-12-23T05:22:48.408345",
     "status": "completed"
    },
    "tags": []
   },
   "outputs": [
    {
     "data": {
      "text/plain": [
       "{'Nashville': 692587,\n",
       " 'Boston': 684379,\n",
       " 'Seattle': 724305,\n",
       " 'San Francisco': 815201}"
      ]
     },
     "execution_count": 15,
     "metadata": {},
     "output_type": "execute_result"
    }
   ],
   "source": [
    "# To add a key value pair, we do it like this:\n",
    "\n",
    "city_populations['Seattle'] = 724305\n",
    "city_populations['San Francisco'] = 815201\n",
    "\n",
    "city_populations"
   ]
  },
  {
   "cell_type": "code",
   "execution_count": 16,
   "id": "5bdef154",
   "metadata": {
    "execution": {
     "iopub.execute_input": "2023-12-23T05:22:48.466498Z",
     "iopub.status.busy": "2023-12-23T05:22:48.465930Z",
     "iopub.status.idle": "2023-12-23T05:22:48.471919Z",
     "shell.execute_reply": "2023-12-23T05:22:48.470671Z"
    },
    "papermill": {
     "duration": 0.025274,
     "end_time": "2023-12-23T05:22:48.474089",
     "exception": false,
     "start_time": "2023-12-23T05:22:48.448815",
     "status": "completed"
    },
    "tags": []
   },
   "outputs": [
    {
     "name": "stdout",
     "output_type": "stream",
     "text": [
      "dict_keys(['Nashville', 'Boston', 'Seattle', 'San Francisco'])\n",
      "dict_values([692587, 684379, 724305, 815201])\n"
     ]
    }
   ],
   "source": [
    "# We can also get all the keys of a dictionary with the .keys() method\n",
    "print(city_populations.keys())\n",
    "print(city_populations.values())"
   ]
  },
  {
   "cell_type": "markdown",
   "id": "af791a9f",
   "metadata": {
    "papermill": {
     "duration": 0.015243,
     "end_time": "2023-12-23T05:22:48.505271",
     "exception": false,
     "start_time": "2023-12-23T05:22:48.490028",
     "status": "completed"
    },
    "tags": []
   },
   "source": [
    "## Random Nerdy Tangent About How Dictionaries Work"
   ]
  },
  {
   "cell_type": "code",
   "execution_count": 17,
   "id": "d6071186",
   "metadata": {
    "execution": {
     "iopub.execute_input": "2023-12-23T05:22:48.537840Z",
     "iopub.status.busy": "2023-12-23T05:22:48.537440Z",
     "iopub.status.idle": "2023-12-23T05:22:48.543710Z",
     "shell.execute_reply": "2023-12-23T05:22:48.542939Z"
    },
    "papermill": {
     "duration": 0.024939,
     "end_time": "2023-12-23T05:22:48.545651",
     "exception": false,
     "start_time": "2023-12-23T05:22:48.520712",
     "status": "completed"
    },
    "tags": []
   },
   "outputs": [
    {
     "data": {
      "text/plain": [
       "{('shemmarie', 'ehus41', 'palak'): 100}"
      ]
     },
     "execution_count": 17,
     "metadata": {},
     "output_type": "execute_result"
    }
   ],
   "source": [
    "group_project_grades = {}\n",
    "group_1 = ('shemmarie', 'ehus41', 'palak')\n",
    "group_project_grades[group_1] = 100\n",
    "group_project_grades"
   ]
  },
  {
   "cell_type": "code",
   "execution_count": 18,
   "id": "44edf5d6",
   "metadata": {
    "execution": {
     "iopub.execute_input": "2023-12-23T05:22:48.579379Z",
     "iopub.status.busy": "2023-12-23T05:22:48.578497Z",
     "iopub.status.idle": "2023-12-23T05:22:48.585166Z",
     "shell.execute_reply": "2023-12-23T05:22:48.584061Z"
    },
    "papermill": {
     "duration": 0.025653,
     "end_time": "2023-12-23T05:22:48.587298",
     "exception": false,
     "start_time": "2023-12-23T05:22:48.561645",
     "status": "completed"
    },
    "tags": []
   },
   "outputs": [
    {
     "data": {
      "text/plain": [
       "[None, None, None, None, None, None, None, None, None, None]"
      ]
     },
     "execution_count": 18,
     "metadata": {},
     "output_type": "execute_result"
    }
   ],
   "source": [
    "memory = [None] * 10\n",
    "memory"
   ]
  },
  {
   "cell_type": "code",
   "execution_count": 19,
   "id": "36fd8ddb",
   "metadata": {
    "execution": {
     "iopub.execute_input": "2023-12-23T05:22:48.621161Z",
     "iopub.status.busy": "2023-12-23T05:22:48.620528Z",
     "iopub.status.idle": "2023-12-23T05:22:48.627587Z",
     "shell.execute_reply": "2023-12-23T05:22:48.626477Z"
    },
    "papermill": {
     "duration": 0.026592,
     "end_time": "2023-12-23T05:22:48.629738",
     "exception": false,
     "start_time": "2023-12-23T05:22:48.603146",
     "status": "completed"
    },
    "tags": []
   },
   "outputs": [
    {
     "name": "stdout",
     "output_type": "stream",
     "text": [
      "None\n"
     ]
    }
   ],
   "source": [
    "# apple\n",
    "# banana\n",
    "# cherry\n",
    "\n",
    "# Step 1: Insert Apple\n",
    "apple = \"apple\"\n",
    "apple_index = hash(apple) % len(memory)\n",
    "memory[apple_index] = \"apple\"\n",
    "memory\n",
    "\n",
    "# Step 2: Insert Banana\n",
    "banana = \"banana\"\n",
    "banana_index = hash(banana) % len(memory)\n",
    "memory[banana_index] = banana\n",
    "\n",
    "# Step: Insert Cherry\n",
    "cherry = \"cherry\"\n",
    "cherry_index = hash(cherry) % len(memory)\n",
    "memory[cherry_index] = cherry\n",
    "\n",
    "memory\n",
    "# O(n): you have to look at all of your data once to do what you want to do\n",
    "# Is cherry in memory?\n",
    "cherry = \"tangerine\"\n",
    "cherry_index = hash(cherry) % len(memory)\n",
    "print(memory[cherry_index])"
   ]
  },
  {
   "cell_type": "code",
   "execution_count": 20,
   "id": "93e82d84",
   "metadata": {
    "execution": {
     "iopub.execute_input": "2023-12-23T05:22:48.663302Z",
     "iopub.status.busy": "2023-12-23T05:22:48.662933Z",
     "iopub.status.idle": "2023-12-23T05:22:48.669411Z",
     "shell.execute_reply": "2023-12-23T05:22:48.668279Z"
    },
    "papermill": {
     "duration": 0.025623,
     "end_time": "2023-12-23T05:22:48.671396",
     "exception": false,
     "start_time": "2023-12-23T05:22:48.645773",
     "status": "completed"
    },
    "tags": []
   },
   "outputs": [
    {
     "data": {
      "text/plain": [
       "5"
      ]
     },
     "execution_count": 20,
     "metadata": {},
     "output_type": "execute_result"
    }
   ],
   "source": [
    "short_data = \"a\"\n",
    "long_data = \"a\" * 1000\n",
    "hash(12345)\n",
    "12345 % 10"
   ]
  },
  {
   "cell_type": "markdown",
   "id": "e88d1379",
   "metadata": {
    "papermill": {
     "duration": 0.015794,
     "end_time": "2023-12-23T05:22:48.703216",
     "exception": false,
     "start_time": "2023-12-23T05:22:48.687422",
     "status": "completed"
    },
    "tags": []
   },
   "source": [
    "## Ifs and Loops"
   ]
  },
  {
   "cell_type": "code",
   "execution_count": 21,
   "id": "e0163171",
   "metadata": {
    "execution": {
     "iopub.execute_input": "2023-12-23T05:22:48.737669Z",
     "iopub.status.busy": "2023-12-23T05:22:48.737295Z",
     "iopub.status.idle": "2023-12-23T05:22:48.742541Z",
     "shell.execute_reply": "2023-12-23T05:22:48.741424Z"
    },
    "papermill": {
     "duration": 0.024979,
     "end_time": "2023-12-23T05:22:48.744799",
     "exception": false,
     "start_time": "2023-12-23T05:22:48.719820",
     "status": "completed"
    },
    "tags": []
   },
   "outputs": [
    {
     "name": "stdout",
     "output_type": "stream",
     "text": [
      "I like pineapple on pizza and I don't care who knows!\n",
      "123\n"
     ]
    }
   ],
   "source": [
    "# If statements let us check some condition, and only run code if that condition is True\n",
    "\n",
    "pineapple_belongs_on_pizza = True\n",
    "\n",
    "if pineapple_belongs_on_pizza:\n",
    "    print('I like pineapple on pizza and I don\\'t care who knows!')\n",
    "    x = 123\n",
    "    print(x)"
   ]
  },
  {
   "cell_type": "code",
   "execution_count": 22,
   "id": "e871bb4d",
   "metadata": {
    "execution": {
     "iopub.execute_input": "2023-12-23T05:22:48.778344Z",
     "iopub.status.busy": "2023-12-23T05:22:48.777953Z",
     "iopub.status.idle": "2023-12-23T05:22:48.783638Z",
     "shell.execute_reply": "2023-12-23T05:22:48.782667Z"
    },
    "papermill": {
     "duration": 0.024953,
     "end_time": "2023-12-23T05:22:48.785891",
     "exception": false,
     "start_time": "2023-12-23T05:22:48.760938",
     "status": "completed"
    },
    "tags": []
   },
   "outputs": [
    {
     "name": "stdout",
     "output_type": "stream",
     "text": [
      "You can get a driver's license in the US!\n",
      "I don't know about you, but I'm feeling 22!\n"
     ]
    }
   ],
   "source": [
    "# We can also use comparisons\n",
    "\n",
    "my_age = 22\n",
    "\n",
    "if my_age > 16:\n",
    "    print('You can get a driver\\'s license in the US!')\n",
    "    \n",
    "if my_age == 22:\n",
    "    print('I don\\'t know about you, but I\\'m feeling 22!')"
   ]
  },
  {
   "cell_type": "code",
   "execution_count": 23,
   "id": "935376fa",
   "metadata": {
    "execution": {
     "iopub.execute_input": "2023-12-23T05:22:48.820669Z",
     "iopub.status.busy": "2023-12-23T05:22:48.820260Z",
     "iopub.status.idle": "2023-12-23T05:22:48.826985Z",
     "shell.execute_reply": "2023-12-23T05:22:48.825936Z"
    },
    "papermill": {
     "duration": 0.026821,
     "end_time": "2023-12-23T05:22:48.829356",
     "exception": false,
     "start_time": "2023-12-23T05:22:48.802535",
     "status": "completed"
    },
    "tags": []
   },
   "outputs": [
    {
     "name": "stdout",
     "output_type": "stream",
     "text": [
      "Welcome to the stream PALAK!\n",
      "Welcome to the stream SRIVANIK!\n",
      "Welcome to the stream SHINIGAMI!\n",
      "Welcome to the stream EHUS41!\n",
      "Welcome to the stream THEEPRADIPTALKS!\n",
      "Welcome to the stream SHEMMARIE!\n",
      "Welcome to the stream SARVESH!\n",
      "Welcome to the stream MICHAAMICHA!\n",
      "michaamicha\n"
     ]
    }
   ],
   "source": [
    "# We can use loops to do something multiple times--this is really helpful for working with lists\n",
    "\n",
    "hackers = ['palak','srivanik','shinigami', 'ehus41', 'theepradiptalks', 'shemmarie', 'sarvesh', 'michaamicha']\n",
    "\n",
    "for hacker in hackers:\n",
    "    loud_hacker = hacker.upper()\n",
    "    print(f'Welcome to the stream {loud_hacker}!')\n",
    "\n",
    "print(hacker)"
   ]
  },
  {
   "cell_type": "code",
   "execution_count": 24,
   "id": "9682490e",
   "metadata": {
    "execution": {
     "iopub.execute_input": "2023-12-23T05:22:48.864095Z",
     "iopub.status.busy": "2023-12-23T05:22:48.863716Z",
     "iopub.status.idle": "2023-12-23T05:22:48.869972Z",
     "shell.execute_reply": "2023-12-23T05:22:48.868943Z"
    },
    "papermill": {
     "duration": 0.026108,
     "end_time": "2023-12-23T05:22:48.871782",
     "exception": false,
     "start_time": "2023-12-23T05:22:48.845674",
     "status": "completed"
    },
    "tags": []
   },
   "outputs": [
    {
     "data": {
      "text/plain": [
       "11"
      ]
     },
     "execution_count": 24,
     "metadata": {},
     "output_type": "execute_result"
    }
   ],
   "source": [
    "my_num = 10\n",
    "my_num += 1\n",
    "my_num"
   ]
  },
  {
   "cell_type": "code",
   "execution_count": 25,
   "id": "ed591bed",
   "metadata": {
    "execution": {
     "iopub.execute_input": "2023-12-23T05:22:48.906429Z",
     "iopub.status.busy": "2023-12-23T05:22:48.906066Z",
     "iopub.status.idle": "2023-12-23T05:22:48.911799Z",
     "shell.execute_reply": "2023-12-23T05:22:48.910646Z"
    },
    "papermill": {
     "duration": 0.025566,
     "end_time": "2023-12-23T05:22:48.913955",
     "exception": false,
     "start_time": "2023-12-23T05:22:48.888389",
     "status": "completed"
    },
    "tags": []
   },
   "outputs": [
    {
     "name": "stdout",
     "output_type": "stream",
     "text": [
      "Will\n",
      "Richard\n",
      "Benjamin Franklin\n",
      "{'Will': 28, 'Richard': 25, 'Benjamin Franklin': 319}\n"
     ]
    }
   ],
   "source": [
    "# We can also use loops on dictionaries!\n",
    "\n",
    "ages = {'Will': 27, 'Richard': 24, 'Benjamin Franklin': 318}\n",
    "\n",
    "# Everyone gets a birthday\n",
    "# Notice we get the key in our dummy variable, not the value\n",
    "for key in ages:\n",
    "    print(key)\n",
    "    ages[key] += 1\n",
    "    \n",
    "print(ages)"
   ]
  },
  {
   "cell_type": "code",
   "execution_count": 26,
   "id": "9792baca",
   "metadata": {
    "execution": {
     "iopub.execute_input": "2023-12-23T05:22:48.948286Z",
     "iopub.status.busy": "2023-12-23T05:22:48.947922Z",
     "iopub.status.idle": "2023-12-23T05:22:48.953152Z",
     "shell.execute_reply": "2023-12-23T05:22:48.951902Z"
    },
    "papermill": {
     "duration": 0.025017,
     "end_time": "2023-12-23T05:22:48.955266",
     "exception": false,
     "start_time": "2023-12-23T05:22:48.930249",
     "status": "completed"
    },
    "tags": []
   },
   "outputs": [
    {
     "name": "stdout",
     "output_type": "stream",
     "text": [
      "Will 28\n",
      "Richard 25\n",
      "Benjamin Franklin 319\n"
     ]
    }
   ],
   "source": [
    "# Question: Can we loop through values?\n",
    "for key, value in ages.items():\n",
    "    print(key, value)"
   ]
  },
  {
   "cell_type": "markdown",
   "id": "56744e17",
   "metadata": {
    "papermill": {
     "duration": 0.015977,
     "end_time": "2023-12-23T05:22:48.987421",
     "exception": false,
     "start_time": "2023-12-23T05:22:48.971444",
     "status": "completed"
    },
    "tags": []
   },
   "source": [
    "## Functions"
   ]
  },
  {
   "cell_type": "code",
   "execution_count": 27,
   "id": "32ee943b",
   "metadata": {
    "execution": {
     "iopub.execute_input": "2023-12-23T05:22:49.021672Z",
     "iopub.status.busy": "2023-12-23T05:22:49.021288Z",
     "iopub.status.idle": "2023-12-23T05:22:49.027934Z",
     "shell.execute_reply": "2023-12-23T05:22:49.027068Z"
    },
    "papermill": {
     "duration": 0.026254,
     "end_time": "2023-12-23T05:22:49.029898",
     "exception": false,
     "start_time": "2023-12-23T05:22:49.003644",
     "status": "completed"
    },
    "tags": []
   },
   "outputs": [
    {
     "data": {
      "text/plain": [
       "1"
      ]
     },
     "execution_count": 27,
     "metadata": {},
     "output_type": "execute_result"
    }
   ],
   "source": [
    "# Functions let us package up a bit of code to reuse multiple times\n",
    "\n",
    "def my_adding_function(foo, bar):\n",
    "    my_sum = foo + bar\n",
    "    return my_sum\n",
    "\n",
    "# In the above function...\n",
    "# def is our keyword that says we're writing a function\n",
    "# my_adding_function is the name of our function, this is what we'll use later to call it\n",
    "# (foo, bar) are our arguments--these are the inputs to our function\n",
    "# the colon (:) tells us we're entering an indented code block, and that the function continues until we unindent\n",
    "# my_sum = foo + bar is the core logic of our function\n",
    "# return my_sum is our return statement--this shows us what the function gives us back when we call it\n",
    "\n",
    "my_adding_function(True, False)"
   ]
  },
  {
   "cell_type": "code",
   "execution_count": 28,
   "id": "c61093b4",
   "metadata": {
    "execution": {
     "iopub.execute_input": "2023-12-23T05:22:49.064862Z",
     "iopub.status.busy": "2023-12-23T05:22:49.064480Z",
     "iopub.status.idle": "2023-12-23T05:22:49.069595Z",
     "shell.execute_reply": "2023-12-23T05:22:49.068673Z"
    },
    "papermill": {
     "duration": 0.024802,
     "end_time": "2023-12-23T05:22:49.071583",
     "exception": false,
     "start_time": "2023-12-23T05:22:49.046781",
     "status": "completed"
    },
    "tags": []
   },
   "outputs": [],
   "source": [
    "# Index:   0 1 2 3 4 5  6\n",
    "# Fib Num: 1 1 2 3 5 8 13\n",
    "\n",
    "# Returns the nth fibonacci number\n",
    "def fibonacci(n):\n",
    "    if n == 1 or n == 0:\n",
    "        return 1\n",
    "    else:\n",
    "        return fibonacci(n - 1) + fibonacci(n - 2)"
   ]
  },
  {
   "cell_type": "code",
   "execution_count": 29,
   "id": "4dcb46dc",
   "metadata": {
    "execution": {
     "iopub.execute_input": "2023-12-23T05:22:49.106877Z",
     "iopub.status.busy": "2023-12-23T05:22:49.105787Z",
     "iopub.status.idle": "2023-12-23T05:22:49.111844Z",
     "shell.execute_reply": "2023-12-23T05:22:49.110913Z"
    },
    "papermill": {
     "duration": 0.025435,
     "end_time": "2023-12-23T05:22:49.113680",
     "exception": false,
     "start_time": "2023-12-23T05:22:49.088245",
     "status": "completed"
    },
    "tags": []
   },
   "outputs": [
    {
     "data": {
      "text/plain": [
       "5"
      ]
     },
     "execution_count": 29,
     "metadata": {},
     "output_type": "execute_result"
    }
   ],
   "source": [
    "fibonacci(4)"
   ]
  },
  {
   "cell_type": "code",
   "execution_count": 30,
   "id": "66179cd4",
   "metadata": {
    "execution": {
     "iopub.execute_input": "2023-12-23T05:22:49.148860Z",
     "iopub.status.busy": "2023-12-23T05:22:49.148039Z",
     "iopub.status.idle": "2023-12-23T05:22:49.157532Z",
     "shell.execute_reply": "2023-12-23T05:22:49.156709Z"
    },
    "papermill": {
     "duration": 0.028938,
     "end_time": "2023-12-23T05:22:49.159377",
     "exception": false,
     "start_time": "2023-12-23T05:22:49.130439",
     "status": "completed"
    },
    "tags": []
   },
   "outputs": [
    {
     "data": {
      "text/plain": [
       "10946"
      ]
     },
     "execution_count": 30,
     "metadata": {},
     "output_type": "execute_result"
    }
   ],
   "source": [
    "fibonacci(20)"
   ]
  },
  {
   "cell_type": "markdown",
   "id": "ad397738",
   "metadata": {
    "execution": {
     "iopub.execute_input": "2023-06-04T18:18:11.66603Z",
     "iopub.status.busy": "2023-06-04T18:18:11.665688Z",
     "iopub.status.idle": "2023-06-04T18:18:11.67011Z",
     "shell.execute_reply": "2023-06-04T18:18:11.669336Z",
     "shell.execute_reply.started": "2023-06-04T18:18:11.666005Z"
    },
    "papermill": {
     "duration": 0.016919,
     "end_time": "2023-12-23T05:22:49.192925",
     "exception": false,
     "start_time": "2023-12-23T05:22:49.176006",
     "status": "completed"
    },
    "tags": []
   },
   "source": [
    "## Libraries and Pandas"
   ]
  },
  {
   "cell_type": "code",
   "execution_count": 31,
   "id": "004af643",
   "metadata": {
    "execution": {
     "iopub.execute_input": "2023-12-23T05:22:49.229218Z",
     "iopub.status.busy": "2023-12-23T05:22:49.227234Z",
     "iopub.status.idle": "2023-12-23T05:22:49.234097Z",
     "shell.execute_reply": "2023-12-23T05:22:49.233430Z"
    },
    "papermill": {
     "duration": 0.026543,
     "end_time": "2023-12-23T05:22:49.235969",
     "exception": false,
     "start_time": "2023-12-23T05:22:49.209426",
     "status": "completed"
    },
    "tags": []
   },
   "outputs": [
    {
     "data": {
      "text/plain": [
       "0.9294019006799149"
      ]
     },
     "execution_count": 31,
     "metadata": {},
     "output_type": "execute_result"
    }
   ],
   "source": [
    "# We can import libraries with the import statement\n",
    "\n",
    "import random\n",
    "\n",
    "# Then use things from those libraries with the dot operator like this:\n",
    "\n",
    "random.random()"
   ]
  },
  {
   "cell_type": "code",
   "execution_count": 32,
   "id": "92b05fca",
   "metadata": {
    "execution": {
     "iopub.execute_input": "2023-12-23T05:22:49.272292Z",
     "iopub.status.busy": "2023-12-23T05:22:49.271268Z",
     "iopub.status.idle": "2023-12-23T05:23:01.216970Z",
     "shell.execute_reply": "2023-12-23T05:23:01.215280Z"
    },
    "papermill": {
     "duration": 11.966856,
     "end_time": "2023-12-23T05:23:01.219852",
     "exception": false,
     "start_time": "2023-12-23T05:22:49.252996",
     "status": "completed"
    },
    "tags": []
   },
   "outputs": [
    {
     "name": "stdout",
     "output_type": "stream",
     "text": [
      "Requirement already satisfied: numpy in /opt/conda/lib/python3.10/site-packages (1.23.5)\r\n",
      "\u001b[33mWARNING: Running pip as the 'root' user can result in broken permissions and conflicting behaviour with the system package manager. It is recommended to use a virtual environment instead: https://pip.pypa.io/warnings/venv\u001b[0m\u001b[33m\r\n",
      "\u001b[0m"
     ]
    }
   ],
   "source": [
    "!pip install numpy"
   ]
  },
  {
   "cell_type": "code",
   "execution_count": 33,
   "id": "3ae036e9",
   "metadata": {
    "execution": {
     "iopub.execute_input": "2023-12-23T05:23:01.256158Z",
     "iopub.status.busy": "2023-12-23T05:23:01.255755Z",
     "iopub.status.idle": "2023-12-23T05:23:01.263669Z",
     "shell.execute_reply": "2023-12-23T05:23:01.262665Z"
    },
    "papermill": {
     "duration": 0.028584,
     "end_time": "2023-12-23T05:23:01.265732",
     "exception": false,
     "start_time": "2023-12-23T05:23:01.237148",
     "status": "completed"
    },
    "tags": []
   },
   "outputs": [
    {
     "data": {
      "text/plain": [
       "['BPF',\n",
       " 'LOG4',\n",
       " 'NV_MAGICCONST',\n",
       " 'RECIP_BPF',\n",
       " 'Random',\n",
       " 'SG_MAGICCONST',\n",
       " 'SystemRandom',\n",
       " 'TWOPI',\n",
       " '_ONE',\n",
       " '_Sequence',\n",
       " '_Set',\n",
       " '__all__',\n",
       " '__builtins__',\n",
       " '__cached__',\n",
       " '__doc__',\n",
       " '__file__',\n",
       " '__loader__',\n",
       " '__name__',\n",
       " '__package__',\n",
       " '__spec__',\n",
       " '_accumulate',\n",
       " '_acos',\n",
       " '_bisect',\n",
       " '_ceil',\n",
       " '_cos',\n",
       " '_e',\n",
       " '_exp',\n",
       " '_floor',\n",
       " '_index',\n",
       " '_inst',\n",
       " '_isfinite',\n",
       " '_log',\n",
       " '_os',\n",
       " '_pi',\n",
       " '_random',\n",
       " '_repeat',\n",
       " '_sha512',\n",
       " '_sin',\n",
       " '_sqrt',\n",
       " '_test',\n",
       " '_test_generator',\n",
       " '_urandom',\n",
       " '_warn',\n",
       " 'betavariate',\n",
       " 'choice',\n",
       " 'choices',\n",
       " 'expovariate',\n",
       " 'gammavariate',\n",
       " 'gauss',\n",
       " 'getrandbits',\n",
       " 'getstate',\n",
       " 'lognormvariate',\n",
       " 'normalvariate',\n",
       " 'paretovariate',\n",
       " 'randbytes',\n",
       " 'randint',\n",
       " 'random',\n",
       " 'randrange',\n",
       " 'sample',\n",
       " 'seed',\n",
       " 'setstate',\n",
       " 'shuffle',\n",
       " 'triangular',\n",
       " 'uniform',\n",
       " 'vonmisesvariate',\n",
       " 'weibullvariate']"
      ]
     },
     "execution_count": 33,
     "metadata": {},
     "output_type": "execute_result"
    }
   ],
   "source": [
    "# If you every want to know all the stuff you can access with a dot, you can use the dir() function\n",
    "# tho be careful, its output can be a little overwhelming sometimes\n",
    "\n",
    "dir(random)"
   ]
  },
  {
   "cell_type": "code",
   "execution_count": 34,
   "id": "e50f9700",
   "metadata": {
    "execution": {
     "iopub.execute_input": "2023-12-23T05:23:01.302230Z",
     "iopub.status.busy": "2023-12-23T05:23:01.301855Z",
     "iopub.status.idle": "2023-12-23T05:23:01.590234Z",
     "shell.execute_reply": "2023-12-23T05:23:01.589171Z"
    },
    "papermill": {
     "duration": 0.309245,
     "end_time": "2023-12-23T05:23:01.592540",
     "exception": false,
     "start_time": "2023-12-23T05:23:01.283295",
     "status": "completed"
    },
    "tags": []
   },
   "outputs": [
    {
     "data": {
      "text/plain": [
       "[<matplotlib.lines.Line2D at 0x79b555dbc1f0>]"
      ]
     },
     "execution_count": 34,
     "metadata": {},
     "output_type": "execute_result"
    },
    {
     "data": {
      "image/png": "[encoded data removed]",
      "text/plain": [
       "<Figure size 640x480 with 1 Axes>"
      ]
     },
     "metadata": {},
     "output_type": "display_data"
    }
   ],
   "source": [
    "# another cool library is called matplotlib\n",
    "\n",
    "# Instead of importing all of matplotlib, we're only import pyplot, and we're giving it a new name: plt!\n",
    "import matplotlib.pyplot as plt\n",
    "\n",
    "x = [0, 1, 2, 3, 4, 5, 6]\n",
    "x_squared = [0, 1, 4, 9, 16, 25, 36]\n",
    "\n",
    "plt.plot(x, x_squared)"
   ]
  },
  {
   "cell_type": "code",
   "execution_count": 35,
   "id": "6cf9eddc",
   "metadata": {
    "execution": {
     "iopub.execute_input": "2023-12-23T05:23:01.629674Z",
     "iopub.status.busy": "2023-12-23T05:23:01.628587Z",
     "iopub.status.idle": "2023-12-23T05:24:19.861789Z",
     "shell.execute_reply": "2023-12-23T05:24:19.860229Z"
    },
    "papermill": {
     "duration": 78.254382,
     "end_time": "2023-12-23T05:24:19.864362",
     "exception": false,
     "start_time": "2023-12-23T05:23:01.609980",
     "status": "completed"
    },
    "tags": []
   },
   "outputs": [
    {
     "name": "stdout",
     "output_type": "stream",
     "text": [
      "Retrieving notices: ...working... done\r\n",
      "Collecting package metadata (current_repodata.json): \\ \b\b| \b\b/ \b\b- \b\b\\ \b\b| \b\b/ \b\b- \b\b\\ \b\b| \b\b/ \b\b- \b\b\\ \b\b| \b\b/ \b\b- \b\b\\ \b\b| \b\b/ \b\b- \b\b\\ \b\b| \b\b/ \b\b- \b\b\\ \b\b| \b\b/ \b\b- \b\b\\ \b\b| \b\b/ \b\b- \b\b\\ \b\b| \b\b/ \b\b- \b\b\\ \b\b| \b\b/ \b\b- \b\b\\ \b\b| \b\b/ \b\b- \b\b\\ \b\b| \b\b/ \b\b- \b\b\\ \b\b| \b\b/ \b\b- \b\b\\ \b\b| \b\b/ \b\b- \b\b\\ \b\b| \b\b/ \b\b- \b\b\\ \b\b| \b\b/ \b\b- \b\b\\ \b\b| \b\b/ \b\b- \b\b\\ \b\b| \b\b/ \b\b- \b\b\\ \b\b| \b\b/ \b\b- \b\b\\ \b\b| \b\b/ \b\bfailed\r\n",
      "\r\n",
      "# >>>>>>>>>>>>>>>>>>>>>> ERROR REPORT <<<<<<<<<<<<<<<<<<<<<<\r\n",
      "\r\n",
      "    Traceback (most recent call last):\r\n",
      "      File \"/opt/conda/lib/python3.10/site-packages/conda/gateways/repodata/__init__.py\", line 161, in conda_http_errors\r\n",
      "        yield\r\n",
      "      File \"/opt/conda/lib/python3.10/site-packages/conda/gateways/repodata/__init__.py\", line 127, in repodata\r\n",
      "        response.raise_for_status()\r\n",
      "      File \"/opt/conda/lib/python3.10/site-packages/requests/models.py\", line 1021, in raise_for_status\r\n",
      "        raise HTTPError(http_error_msg, response=self)\r\n",
      "    requests.exceptions.HTTPError: 404 Client Error: Not Found for url: https://conda.anaconda.org/rapidsai/linux-64/current_repodata.json\r\n",
      "    \r\n",
      "    During handling of the above exception, another exception occurred:\r\n",
      "    \r\n",
      "    Traceback (most recent call last):\r\n",
      "      File \"/opt/conda/lib/python3.10/site-packages/requests/models.py\", line 971, in json\r\n",
      "        return complexjson.loads(self.text, **kwargs)\r\n",
      "      File \"/opt/conda/lib/python3.10/site-packages/simplejson/__init__.py\", line 514, in loads\r\n",
      "        return _default_decoder.decode(s)\r\n",
      "      File \"/opt/conda/lib/python3.10/site-packages/simplejson/decoder.py\", line 386, in decode\r\n",
      "        obj, end = self.raw_decode(s)\r\n",
      "      File \"/opt/conda/lib/python3.10/site-packages/simplejson/decoder.py\", line 416, in raw_decode\r\n",
      "        return self.scan_once(s, idx=_w(s, idx).end())\r\n",
      "    simplejson.errors.JSONDecodeError: Expecting value: line 1 column 1 (char 0)\r\n",
      "    \r\n",
      "    During handling of the above exception, another exception occurred:\r\n",
      "    \r\n",
      "    Traceback (most recent call last):\r\n",
      "      File \"/opt/conda/lib/python3.10/site-packages/conda/exceptions.py\", line 1132, in __call__\r\n",
      "        return func(*args, **kwargs)\r\n",
      "      File \"/opt/conda/lib/python3.10/site-packages/conda/cli/main.py\", line 69, in main_subshell\r\n",
      "        exit_code = do_call(args, p)\r\n",
      "      File \"/opt/conda/lib/python3.10/site-packages/conda/cli/conda_argparse.py\", line 122, in do_call\r\n",
      "        return getattr(module, func_name)(args, parser)\r\n",
      "      File \"/opt/conda/lib/python3.10/site-packages/conda/notices/core.py\", line 116, in wrapper\r\n",
      "        return_value = func(*args, **kwargs)\r\n",
      "      File \"/opt/conda/lib/python3.10/site-packages/conda/cli/main_install.py\", line 20, in execute\r\n",
      "        install(args, parser, 'install')\r\n",
      "      File \"/opt/conda/lib/python3.10/site-packages/conda/cli/install.py\", line 264, in install\r\n",
      "        unlink_link_transaction = solver.solve_for_transaction(\r\n",
      "      File \"/opt/conda/lib/python3.10/site-packages/conda/core/solve.py\", line 134, in solve_for_transaction\r\n",
      "        unlink_precs, link_precs = self.solve_for_diff(update_modifier, deps_modifier,\r\n",
      "      File \"/opt/conda/lib/python3.10/site-packages/conda/core/solve.py\", line 177, in solve_for_diff\r\n",
      "        final_precs = self.solve_final_state(update_modifier, deps_modifier, prune, ignore_pinned,\r\n",
      "      File \"/opt/conda/lib/python3.10/site-packages/conda/core/solve.py\", line 282, in solve_final_state\r\n",
      "        ssc = self._collect_all_metadata(ssc)\r\n",
      "      File \"/opt/conda/lib/python3.10/site-packages/conda/common/io.py\", line 84, in decorated\r\n",
      "        return f(*args, **kwds)\r\n",
      "      File \"/opt/conda/lib/python3.10/site-packages/conda/core/solve.py\", line 449, in _collect_all_metadata\r\n",
      "        index, r = self._prepare(prepared_specs)\r\n",
      "      File \"/opt/conda/lib/python3.10/site-packages/conda/core/solve.py\", line 1064, in _prepare\r\n",
      "        reduced_index = get_reduced_index(self.prefix, self.channels,\r\n",
      "      File \"/opt/conda/lib/python3.10/site-packages/conda/core/index.py\", line 267, in get_reduced_index\r\n",
      "        new_records = SubdirData.query_all(spec, channels=channels, subdirs=subdirs,\r\n",
      "      File \"/opt/conda/lib/python3.10/site-packages/conda/core/subdir_data.py\", line 169, in query_all\r\n",
      "        result = tuple(chain.from_iterable(executor.map(subdir_query, channel_urls)))\r\n",
      "      File \"/opt/conda/lib/python3.10/concurrent/futures/_base.py\", line 621, in result_iterator\r\n",
      "        yield _result_or_cancel(fs.pop())\r\n",
      "      File \"/opt/conda/lib/python3.10/concurrent/futures/_base.py\", line 319, in _result_or_cancel\r\n",
      "        return fut.result(timeout)\r\n",
      "      File \"/opt/conda/lib/python3.10/concurrent/futures/_base.py\", line 458, in result\r\n",
      "        return self.__get_result()\r\n",
      "      File \"/opt/conda/lib/python3.10/concurrent/futures/_base.py\", line 403, in __get_result\r\n",
      "        raise self._exception\r\n",
      "      File \"/opt/conda/lib/python3.10/concurrent/futures/thread.py\", line 58, in run\r\n",
      "        result = self.fn(*self.args, **self.kwargs)\r\n",
      "      File \"/opt/conda/lib/python3.10/site-packages/conda/core/subdir_data.py\", line 158, in subdir_query\r\n",
      "        return tuple(\r\n",
      "      File \"/opt/conda/lib/python3.10/site-packages/conda/core/subdir_data.py\", line 174, in query\r\n",
      "        self.load()\r\n",
      "      File \"/opt/conda/lib/python3.10/site-packages/conda/core/subdir_data.py\", line 264, in load\r\n",
      "        _internal_state = self._load()\r\n",
      "      File \"/opt/conda/lib/python3.10/site-packages/conda/core/subdir_data.py\", line 366, in _load\r\n",
      "        raw_repodata_str = self._repo.repodata(cache.state)  # type: ignore\r\n",
      "      File \"/opt/conda/lib/python3.10/site-packages/conda/gateways/repodata/__init__.py\", line 120, in repodata\r\n",
      "        with conda_http_errors(self._url, filename):\r\n",
      "      File \"/opt/conda/lib/python3.10/contextlib.py\", line 153, in __exit__\r\n",
      "        self.gen.throw(typ, value, traceback)\r\n",
      "      File \"/opt/conda/lib/python3.10/site-packages/conda/gateways/repodata/__init__.py\", line 208, in conda_http_errors\r\n",
      "        raise RepodataIsEmpty(\r\n",
      "      File \"/opt/conda/lib/python3.10/site-packages/conda/exceptions.py\", line 462, in __init__\r\n",
      "        body = response.json()\r\n",
      "      File \"/opt/conda/lib/python3.10/site-packages/requests/models.py\", line 975, in json\r\n",
      "        raise RequestsJSONDecodeError(e.msg, e.doc, e.pos)\r\n",
      "    requests.exceptions.JSONDecodeError: Expecting value: line 1 column 1 (char 0)\r\n",
      "\r\n",
      "`$ /opt/conda/bin/conda install numpy`\r\n",
      "\r\n",
      "  environment variables:\r\n",
      "                 CIO_TEST=<not set>\r\n",
      "               CONDA_ROOT=/opt/conda\r\n",
      "           CURL_CA_BUNDLE=<not set>\r\n",
      "          LD_LIBRARY_PATH=/usr/local/cuda/lib64:/usr/local/cuda/lib:/usr/local/lib/x86_64-linux-\r\n",
      "                          gnu:/usr/local/nvidia/lib:/usr/local/nvidia/lib64::/opt/conda/lib\r\n",
      "               LD_PRELOAD=<not set>\r\n",
      "             LIBRARY_PATH=:/opt/conda/lib\r\n",
      "                     PATH=/opt/conda/bin:/usr/local/sbin:/usr/local/bin:/usr/sbin:/usr/bin:/sbin\r\n",
      "                          :/bin\r\n",
      "               PYTHONPATH=/kaggle/lib/kagglegym:/kaggle/lib:/kaggle/input/how-much-would-you-\r\n",
      "                          pay-for-a-fake-cat\r\n",
      "           PYTHONUSERBASE=/root/.local\r\n",
      "       REQUESTS_CA_BUNDLE=<not set>\r\n",
      "            SSL_CERT_FILE=<not set>\r\n",
      "           TESSERACT_PATH=/usr/bin/tesseract\r\n",
      "\r\n",
      "     active environment : None\r\n",
      "       user config file : /root/.condarc\r\n",
      " populated config files : /opt/conda/.condarc\r\n",
      "                          /root/.condarc\r\n",
      "          conda version : 23.3.1\r\n",
      "    conda-build version : not installed\r\n",
      "         python version : 3.10.10.final.0\r\n",
      "       virtual packages : __archspec=1=x86_64\r\n",
      "                          __glibc=2.31=0\r\n",
      "                          __linux=5.15.133=0\r\n",
      "                          __unix=0=0\r\n",
      "       base environment : /opt/conda  (writable)\r\n",
      "      conda av data dir : /opt/conda/etc/conda\r\n",
      "  conda av metadata url : None\r\n",
      "           channel URLs : https://conda.anaconda.org/rapidsai/linux-64\r\n",
      "                          https://conda.anaconda.org/rapidsai/noarch\r\n",
      "                          https://conda.anaconda.org/nvidia/linux-64\r\n",
      "                          https://conda.anaconda.org/nvidia/noarch\r\n",
      "                          https://conda.anaconda.org/conda-forge/linux-64\r\n",
      "                          https://conda.anaconda.org/conda-forge/noarch\r\n",
      "                          https://repo.anaconda.com/pkgs/main/linux-64\r\n",
      "                          https://repo.anaconda.com/pkgs/main/noarch\r\n",
      "                          https://repo.anaconda.com/pkgs/r/linux-64\r\n",
      "                          https://repo.anaconda.com/pkgs/r/noarch\r\n",
      "          package cache : /opt/conda/pkgs\r\n",
      "                          /root/.conda/pkgs\r\n",
      "       envs directories : /opt/conda/envs\r\n",
      "                          /root/.conda/envs\r\n",
      "               platform : linux-64\r\n",
      "             user-agent : conda/23.3.1 requests/2.29.0 CPython/3.10.10 Linux/5.15.133+ ubuntu/20.04.6 glibc/2.31\r\n",
      "                UID:GID : 0:0\r\n",
      "             netrc file : None\r\n",
      "           offline mode : False\r\n",
      "\r\n",
      "\r\n",
      "An unexpected error has occurred. Conda has prepared the above report.\r\n",
      "\r\n",
      "If submitted, this report will be used by core maintainers to improve\r\n",
      "future releases of conda.\r\n",
      "Would you like conda to send this report to the core maintainers? [y/N]: \r\n",
      "Timeout reached. No report sent.\r\n",
      "\r\n"
     ]
    }
   ],
   "source": [
    "!conda install numpy"
   ]
  },
  {
   "cell_type": "code",
   "execution_count": 36,
   "id": "a07fc684",
   "metadata": {
    "execution": {
     "iopub.execute_input": "2023-12-23T05:24:19.913649Z",
     "iopub.status.busy": "2023-12-23T05:24:19.913227Z",
     "iopub.status.idle": "2023-12-23T05:24:19.949602Z",
     "shell.execute_reply": "2023-12-23T05:24:19.948855Z"
    },
    "papermill": {
     "duration": 0.064308,
     "end_time": "2023-12-23T05:24:19.951677",
     "exception": false,
     "start_time": "2023-12-23T05:24:19.887369",
     "status": "completed"
    },
    "tags": []
   },
   "outputs": [
    {
     "data": {
      "text/html": [
       "<div>\n",
       "<style scoped>\n",
       "    .dataframe tbody tr th:only-of-type {\n",
       "        vertical-align: middle;\n",
       "    }\n",
       "\n",
       "    .dataframe tbody tr th {\n",
       "        vertical-align: top;\n",
       "    }\n",
       "\n",
       "    .dataframe thead th {\n",
       "        text-align: right;\n",
       "    }\n",
       "</style>\n",
       "<table border=\"1\" class=\"dataframe\">\n",
       "  <thead>\n",
       "    <tr style=\"text-align: right;\">\n",
       "      <th></th>\n",
       "      <th>state</th>\n",
       "      <th>abbreviation</th>\n",
       "      <th>population</th>\n",
       "      <th>number_starbucks</th>\n",
       "    </tr>\n",
       "  </thead>\n",
       "  <tbody>\n",
       "    <tr>\n",
       "      <th>0</th>\n",
       "      <td>California</td>\n",
       "      <td>CA</td>\n",
       "      <td>39613493</td>\n",
       "      <td>2821</td>\n",
       "    </tr>\n",
       "    <tr>\n",
       "      <th>1</th>\n",
       "      <td>Texas</td>\n",
       "      <td>TX</td>\n",
       "      <td>29730311</td>\n",
       "      <td>1042</td>\n",
       "    </tr>\n",
       "    <tr>\n",
       "      <th>2</th>\n",
       "      <td>Florida</td>\n",
       "      <td>FL</td>\n",
       "      <td>21944577</td>\n",
       "      <td>694</td>\n",
       "    </tr>\n",
       "    <tr>\n",
       "      <th>3</th>\n",
       "      <td>New York</td>\n",
       "      <td>NY</td>\n",
       "      <td>19299981</td>\n",
       "      <td>645</td>\n",
       "    </tr>\n",
       "    <tr>\n",
       "      <th>4</th>\n",
       "      <td>Pennsylvania</td>\n",
       "      <td>PA</td>\n",
       "      <td>12804123</td>\n",
       "      <td>357</td>\n",
       "    </tr>\n",
       "    <tr>\n",
       "      <th>5</th>\n",
       "      <td>Illinois</td>\n",
       "      <td>IL</td>\n",
       "      <td>12569321</td>\n",
       "      <td>575</td>\n",
       "    </tr>\n",
       "    <tr>\n",
       "      <th>6</th>\n",
       "      <td>Ohio</td>\n",
       "      <td>OH</td>\n",
       "      <td>11714618</td>\n",
       "      <td>378</td>\n",
       "    </tr>\n",
       "    <tr>\n",
       "      <th>7</th>\n",
       "      <td>Georgia</td>\n",
       "      <td>GA</td>\n",
       "      <td>10830007</td>\n",
       "      <td>326</td>\n",
       "    </tr>\n",
       "    <tr>\n",
       "      <th>8</th>\n",
       "      <td>Vermont</td>\n",
       "      <td>VT</td>\n",
       "      <td>650000</td>\n",
       "      <td>8</td>\n",
       "    </tr>\n",
       "  </tbody>\n",
       "</table>\n",
       "</div>"
      ],
      "text/plain": [
       "          state abbreviation  population  number_starbucks\n",
       "0    California           CA    39613493              2821\n",
       "1         Texas           TX    29730311              1042\n",
       "2       Florida           FL    21944577               694\n",
       "3      New York           NY    19299981               645\n",
       "4  Pennsylvania           PA    12804123               357\n",
       "5      Illinois           IL    12569321               575\n",
       "6          Ohio           OH    11714618               378\n",
       "7       Georgia           GA    10830007               326\n",
       "8       Vermont           VT      650000                 8"
      ]
     },
     "execution_count": 36,
     "metadata": {},
     "output_type": "execute_result"
    }
   ],
   "source": [
    "# Now for the big one. There's a library called pandas that we're going to use a lot\n",
    "# It helps us interact with the kind of data you would find in a spreadsheet\n",
    "\n",
    "import pandas as pd\n",
    "\n",
    "raw_data = {\n",
    "    'state': ['California', 'Texas', 'Florida', 'New York', 'Pennsylvania', 'Illinois', 'Ohio', 'Georgia', 'Vermont'],\n",
    "    'abbreviation': ['CA', 'TX', 'FL', 'NY', 'PA', 'IL', 'OH', 'GA', 'VT'],\n",
    "    'population': [39613493, 29730311, 21944577, 19299981, 12804123, 12569321, 11714618, 10830007, 650000],\n",
    "    'number_starbucks': [2821, 1042, 694, 645, 357, 575, 378, 326, 8]\n",
    "}\n",
    "\n",
    "df = pd.DataFrame(raw_data)\n",
    "df"
   ]
  },
  {
   "cell_type": "code",
   "execution_count": 37,
   "id": "f857be68",
   "metadata": {
    "execution": {
     "iopub.execute_input": "2023-12-23T05:24:20.000742Z",
     "iopub.status.busy": "2023-12-23T05:24:20.000083Z",
     "iopub.status.idle": "2023-12-23T05:24:20.010436Z",
     "shell.execute_reply": "2023-12-23T05:24:20.009345Z"
    },
    "papermill": {
     "duration": 0.038366,
     "end_time": "2023-12-23T05:24:20.012868",
     "exception": false,
     "start_time": "2023-12-23T05:24:19.974502",
     "status": "completed"
    },
    "tags": []
   },
   "outputs": [
    {
     "data": {
      "text/html": [
       "<div>\n",
       "<style scoped>\n",
       "    .dataframe tbody tr th:only-of-type {\n",
       "        vertical-align: middle;\n",
       "    }\n",
       "\n",
       "    .dataframe tbody tr th {\n",
       "        vertical-align: top;\n",
       "    }\n",
       "\n",
       "    .dataframe thead th {\n",
       "        text-align: right;\n",
       "    }\n",
       "</style>\n",
       "<table border=\"1\" class=\"dataframe\">\n",
       "  <thead>\n",
       "    <tr style=\"text-align: right;\">\n",
       "      <th></th>\n",
       "      <th>state</th>\n",
       "      <th>abbreviation</th>\n",
       "      <th>population</th>\n",
       "      <th>number_starbucks</th>\n",
       "    </tr>\n",
       "  </thead>\n",
       "  <tbody>\n",
       "    <tr>\n",
       "      <th>0</th>\n",
       "      <td>California</td>\n",
       "      <td>CA</td>\n",
       "      <td>39613493</td>\n",
       "      <td>2821</td>\n",
       "    </tr>\n",
       "    <tr>\n",
       "      <th>1</th>\n",
       "      <td>Texas</td>\n",
       "      <td>TX</td>\n",
       "      <td>29730311</td>\n",
       "      <td>1042</td>\n",
       "    </tr>\n",
       "    <tr>\n",
       "      <th>2</th>\n",
       "      <td>Florida</td>\n",
       "      <td>FL</td>\n",
       "      <td>21944577</td>\n",
       "      <td>694</td>\n",
       "    </tr>\n",
       "    <tr>\n",
       "      <th>3</th>\n",
       "      <td>New York</td>\n",
       "      <td>NY</td>\n",
       "      <td>19299981</td>\n",
       "      <td>645</td>\n",
       "    </tr>\n",
       "    <tr>\n",
       "      <th>4</th>\n",
       "      <td>Pennsylvania</td>\n",
       "      <td>PA</td>\n",
       "      <td>12804123</td>\n",
       "      <td>357</td>\n",
       "    </tr>\n",
       "  </tbody>\n",
       "</table>\n",
       "</div>"
      ],
      "text/plain": [
       "          state abbreviation  population  number_starbucks\n",
       "0    California           CA    39613493              2821\n",
       "1         Texas           TX    29730311              1042\n",
       "2       Florida           FL    21944577               694\n",
       "3      New York           NY    19299981               645\n",
       "4  Pennsylvania           PA    12804123               357"
      ]
     },
     "execution_count": 37,
     "metadata": {},
     "output_type": "execute_result"
    }
   ],
   "source": [
    "# Head is a helpful function that will just show us the first few rows of our dataframe\n",
    "df.head()"
   ]
  },
  {
   "cell_type": "code",
   "execution_count": 38,
   "id": "a335f431",
   "metadata": {
    "execution": {
     "iopub.execute_input": "2023-12-23T05:24:20.061789Z",
     "iopub.status.busy": "2023-12-23T05:24:20.061384Z",
     "iopub.status.idle": "2023-12-23T05:24:20.072413Z",
     "shell.execute_reply": "2023-12-23T05:24:20.071467Z"
    },
    "papermill": {
     "duration": 0.037623,
     "end_time": "2023-12-23T05:24:20.074376",
     "exception": false,
     "start_time": "2023-12-23T05:24:20.036753",
     "status": "completed"
    },
    "tags": []
   },
   "outputs": [
    {
     "data": {
      "text/html": [
       "<div>\n",
       "<style scoped>\n",
       "    .dataframe tbody tr th:only-of-type {\n",
       "        vertical-align: middle;\n",
       "    }\n",
       "\n",
       "    .dataframe tbody tr th {\n",
       "        vertical-align: top;\n",
       "    }\n",
       "\n",
       "    .dataframe thead th {\n",
       "        text-align: right;\n",
       "    }\n",
       "</style>\n",
       "<table border=\"1\" class=\"dataframe\">\n",
       "  <thead>\n",
       "    <tr style=\"text-align: right;\">\n",
       "      <th></th>\n",
       "      <th>state</th>\n",
       "      <th>abbreviation</th>\n",
       "      <th>population</th>\n",
       "      <th>number_starbucks</th>\n",
       "    </tr>\n",
       "  </thead>\n",
       "  <tbody>\n",
       "    <tr>\n",
       "      <th>0</th>\n",
       "      <td>California</td>\n",
       "      <td>CA</td>\n",
       "      <td>39613493</td>\n",
       "      <td>2821</td>\n",
       "    </tr>\n",
       "    <tr>\n",
       "      <th>1</th>\n",
       "      <td>Texas</td>\n",
       "      <td>TX</td>\n",
       "      <td>29730311</td>\n",
       "      <td>1042</td>\n",
       "    </tr>\n",
       "    <tr>\n",
       "      <th>2</th>\n",
       "      <td>Florida</td>\n",
       "      <td>FL</td>\n",
       "      <td>21944577</td>\n",
       "      <td>694</td>\n",
       "    </tr>\n",
       "    <tr>\n",
       "      <th>3</th>\n",
       "      <td>New York</td>\n",
       "      <td>NY</td>\n",
       "      <td>19299981</td>\n",
       "      <td>645</td>\n",
       "    </tr>\n",
       "    <tr>\n",
       "      <th>4</th>\n",
       "      <td>Pennsylvania</td>\n",
       "      <td>PA</td>\n",
       "      <td>12804123</td>\n",
       "      <td>357</td>\n",
       "    </tr>\n",
       "    <tr>\n",
       "      <th>5</th>\n",
       "      <td>Illinois</td>\n",
       "      <td>IL</td>\n",
       "      <td>12569321</td>\n",
       "      <td>575</td>\n",
       "    </tr>\n",
       "    <tr>\n",
       "      <th>6</th>\n",
       "      <td>Ohio</td>\n",
       "      <td>OH</td>\n",
       "      <td>11714618</td>\n",
       "      <td>378</td>\n",
       "    </tr>\n",
       "    <tr>\n",
       "      <th>7</th>\n",
       "      <td>Georgia</td>\n",
       "      <td>GA</td>\n",
       "      <td>10830007</td>\n",
       "      <td>326</td>\n",
       "    </tr>\n",
       "    <tr>\n",
       "      <th>8</th>\n",
       "      <td>Vermont</td>\n",
       "      <td>VT</td>\n",
       "      <td>650000</td>\n",
       "      <td>8</td>\n",
       "    </tr>\n",
       "  </tbody>\n",
       "</table>\n",
       "</div>"
      ],
      "text/plain": [
       "          state abbreviation  population  number_starbucks\n",
       "0    California           CA    39613493              2821\n",
       "1         Texas           TX    29730311              1042\n",
       "2       Florida           FL    21944577               694\n",
       "3      New York           NY    19299981               645\n",
       "4  Pennsylvania           PA    12804123               357\n",
       "5      Illinois           IL    12569321               575\n",
       "6          Ohio           OH    11714618               378\n",
       "7       Georgia           GA    10830007               326\n",
       "8       Vermont           VT      650000                 8"
      ]
     },
     "execution_count": 38,
     "metadata": {},
     "output_type": "execute_result"
    }
   ],
   "source": [
    "df"
   ]
  },
  {
   "cell_type": "code",
   "execution_count": 39,
   "id": "9f7181c7",
   "metadata": {
    "execution": {
     "iopub.execute_input": "2023-12-23T05:24:20.122929Z",
     "iopub.status.busy": "2023-12-23T05:24:20.121801Z",
     "iopub.status.idle": "2023-12-23T05:24:20.128446Z",
     "shell.execute_reply": "2023-12-23T05:24:20.127768Z"
    },
    "papermill": {
     "duration": 0.032783,
     "end_time": "2023-12-23T05:24:20.130380",
     "exception": false,
     "start_time": "2023-12-23T05:24:20.097597",
     "status": "completed"
    },
    "tags": []
   },
   "outputs": [
    {
     "data": {
      "text/plain": [
       "0    2821\n",
       "1    1042\n",
       "2     694\n",
       "3     645\n",
       "4     357\n",
       "5     575\n",
       "6     378\n",
       "7     326\n",
       "8       8\n",
       "Name: number_starbucks, dtype: int64"
      ]
     },
     "execution_count": 39,
     "metadata": {},
     "output_type": "execute_result"
    }
   ],
   "source": [
    "# We can pull out a single column just like we would for a dictionary\n",
    "\n",
    "df['number_starbucks']"
   ]
  },
  {
   "cell_type": "code",
   "execution_count": 40,
   "id": "c1053038",
   "metadata": {
    "execution": {
     "iopub.execute_input": "2023-12-23T05:24:20.179108Z",
     "iopub.status.busy": "2023-12-23T05:24:20.178737Z",
     "iopub.status.idle": "2023-12-23T05:24:20.186860Z",
     "shell.execute_reply": "2023-12-23T05:24:20.185898Z"
    },
    "papermill": {
     "duration": 0.035346,
     "end_time": "2023-12-23T05:24:20.189058",
     "exception": false,
     "start_time": "2023-12-23T05:24:20.153712",
     "status": "completed"
    },
    "tags": []
   },
   "outputs": [
    {
     "data": {
      "text/plain": [
       "(760.6666666666666, 824.7151023232204, 8, 2821)"
      ]
     },
     "execution_count": 40,
     "metadata": {},
     "output_type": "execute_result"
    }
   ],
   "source": [
    "# We can also get cool stats on that column\n",
    "\n",
    "df['number_starbucks'].mean(), df['number_starbucks'].std(), df['number_starbucks'].min(), df['number_starbucks'].max()"
   ]
  },
  {
   "cell_type": "code",
   "execution_count": 41,
   "id": "e25d4628",
   "metadata": {
    "execution": {
     "iopub.execute_input": "2023-12-23T05:24:20.240291Z",
     "iopub.status.busy": "2023-12-23T05:24:20.239572Z",
     "iopub.status.idle": "2023-12-23T05:24:20.245844Z",
     "shell.execute_reply": "2023-12-23T05:24:20.245013Z"
    },
    "papermill": {
     "duration": 0.034491,
     "end_time": "2023-12-23T05:24:20.247836",
     "exception": false,
     "start_time": "2023-12-23T05:24:20.213345",
     "status": "completed"
    },
    "tags": []
   },
   "outputs": [
    {
     "data": {
      "text/plain": [
       "'number_starbucks'"
      ]
     },
     "execution_count": 41,
     "metadata": {},
     "output_type": "execute_result"
    }
   ],
   "source": [
    "df.columns[3]"
   ]
  },
  {
   "cell_type": "code",
   "execution_count": 42,
   "id": "179c5dfd",
   "metadata": {
    "execution": {
     "iopub.execute_input": "2023-12-23T05:24:20.297386Z",
     "iopub.status.busy": "2023-12-23T05:24:20.296797Z",
     "iopub.status.idle": "2023-12-23T05:24:20.302869Z",
     "shell.execute_reply": "2023-12-23T05:24:20.301694Z"
    },
    "papermill": {
     "duration": 0.033706,
     "end_time": "2023-12-23T05:24:20.305164",
     "exception": false,
     "start_time": "2023-12-23T05:24:20.271458",
     "status": "completed"
    },
    "tags": []
   },
   "outputs": [
    {
     "name": "stdout",
     "output_type": "stream",
     "text": [
      "California is a state in the US!\n",
      "Texas is a state in the US!\n",
      "Florida is a state in the US!\n",
      "New York is a state in the US!\n",
      "Pennsylvania is a state in the US!\n",
      "Illinois is a state in the US!\n",
      "Ohio is a state in the US!\n",
      "Georgia is a state in the US!\n",
      "Vermont is a state in the US!\n"
     ]
    }
   ],
   "source": [
    "# Each individual column also works like a list, so we can use it in a loop:\n",
    "\n",
    "for state in df['state']:\n",
    "    print(f'{state} is a state in the US!')"
   ]
  },
  {
   "cell_type": "code",
   "execution_count": 43,
   "id": "4af85315",
   "metadata": {
    "execution": {
     "iopub.execute_input": "2023-12-23T05:24:20.354978Z",
     "iopub.status.busy": "2023-12-23T05:24:20.354583Z",
     "iopub.status.idle": "2023-12-23T05:24:20.675941Z",
     "shell.execute_reply": "2023-12-23T05:24:20.675146Z"
    },
    "papermill": {
     "duration": 0.348715,
     "end_time": "2023-12-23T05:24:20.677925",
     "exception": false,
     "start_time": "2023-12-23T05:24:20.329210",
     "status": "completed"
    },
    "tags": []
   },
   "outputs": [
    {
     "data": {
      "text/plain": [
       "Text(0, 0.5, 'number of starbucks')"
      ]
     },
     "execution_count": 43,
     "metadata": {},
     "output_type": "execute_result"
    },
    {
     "data": {
      "image/png": "[encoded data removed]",
      "text/plain": [
       "<Figure size 640x480 with 1 Axes>"
      ]
     },
     "metadata": {},
     "output_type": "display_data"
    }
   ],
   "source": [
    "# Or we can use them in a graph\n",
    "\n",
    "plt.scatter(df['population'], df['number_starbucks'])\n",
    "plt.title('Number of Starbucks in State vs Population')\n",
    "plt.xlabel('population')\n",
    "plt.ylabel('number of starbucks')"
   ]
  },
  {
   "cell_type": "code",
   "execution_count": 44,
   "id": "8a9488df",
   "metadata": {
    "execution": {
     "iopub.execute_input": "2023-12-23T05:24:20.729810Z",
     "iopub.status.busy": "2023-12-23T05:24:20.729393Z",
     "iopub.status.idle": "2023-12-23T05:24:20.737062Z",
     "shell.execute_reply": "2023-12-23T05:24:20.736038Z"
    },
    "papermill": {
     "duration": 0.037096,
     "end_time": "2023-12-23T05:24:20.739244",
     "exception": false,
     "start_time": "2023-12-23T05:24:20.702148",
     "status": "completed"
    },
    "tags": []
   },
   "outputs": [
    {
     "data": {
      "text/plain": [
       "0     True\n",
       "1     True\n",
       "2     True\n",
       "3    False\n",
       "4    False\n",
       "5    False\n",
       "6    False\n",
       "7    False\n",
       "8    False\n",
       "Name: population, dtype: bool"
      ]
     },
     "execution_count": 44,
     "metadata": {},
     "output_type": "execute_result"
    }
   ],
   "source": [
    "df['population'] > 20000000"
   ]
  },
  {
   "cell_type": "code",
   "execution_count": 45,
   "id": "f35367a8",
   "metadata": {
    "execution": {
     "iopub.execute_input": "2023-12-23T05:24:20.789405Z",
     "iopub.status.busy": "2023-12-23T05:24:20.789001Z",
     "iopub.status.idle": "2023-12-23T05:24:20.804315Z",
     "shell.execute_reply": "2023-12-23T05:24:20.803280Z"
    },
    "papermill": {
     "duration": 0.042936,
     "end_time": "2023-12-23T05:24:20.806483",
     "exception": false,
     "start_time": "2023-12-23T05:24:20.763547",
     "status": "completed"
    },
    "tags": []
   },
   "outputs": [
    {
     "data": {
      "text/html": [
       "<div>\n",
       "<style scoped>\n",
       "    .dataframe tbody tr th:only-of-type {\n",
       "        vertical-align: middle;\n",
       "    }\n",
       "\n",
       "    .dataframe tbody tr th {\n",
       "        vertical-align: top;\n",
       "    }\n",
       "\n",
       "    .dataframe thead th {\n",
       "        text-align: right;\n",
       "    }\n",
       "</style>\n",
       "<table border=\"1\" class=\"dataframe\">\n",
       "  <thead>\n",
       "    <tr style=\"text-align: right;\">\n",
       "      <th></th>\n",
       "      <th>state</th>\n",
       "      <th>abbreviation</th>\n",
       "      <th>population</th>\n",
       "      <th>number_starbucks</th>\n",
       "    </tr>\n",
       "  </thead>\n",
       "  <tbody>\n",
       "    <tr>\n",
       "      <th>0</th>\n",
       "      <td>California</td>\n",
       "      <td>CA</td>\n",
       "      <td>39613493</td>\n",
       "      <td>2821</td>\n",
       "    </tr>\n",
       "    <tr>\n",
       "      <th>1</th>\n",
       "      <td>Texas</td>\n",
       "      <td>TX</td>\n",
       "      <td>29730311</td>\n",
       "      <td>1042</td>\n",
       "    </tr>\n",
       "    <tr>\n",
       "      <th>2</th>\n",
       "      <td>Florida</td>\n",
       "      <td>FL</td>\n",
       "      <td>21944577</td>\n",
       "      <td>694</td>\n",
       "    </tr>\n",
       "  </tbody>\n",
       "</table>\n",
       "</div>"
      ],
      "text/plain": [
       "        state abbreviation  population  number_starbucks\n",
       "0  California           CA    39613493              2821\n",
       "1       Texas           TX    29730311              1042\n",
       "2     Florida           FL    21944577               694"
      ]
     },
     "execution_count": 45,
     "metadata": {},
     "output_type": "execute_result"
    }
   ],
   "source": [
    "# We can also filter our dataframe like this\n",
    "\n",
    "# Here we'll get all our states with more than 20 million people\n",
    "df[df['population'] > 20000000]"
   ]
  },
  {
   "cell_type": "code",
   "execution_count": 46,
   "id": "55c4da9d",
   "metadata": {
    "execution": {
     "iopub.execute_input": "2023-12-23T05:24:20.857848Z",
     "iopub.status.busy": "2023-12-23T05:24:20.857185Z",
     "iopub.status.idle": "2023-12-23T05:24:20.871415Z",
     "shell.execute_reply": "2023-12-23T05:24:20.870295Z"
    },
    "papermill": {
     "duration": 0.042308,
     "end_time": "2023-12-23T05:24:20.873527",
     "exception": false,
     "start_time": "2023-12-23T05:24:20.831219",
     "status": "completed"
    },
    "tags": []
   },
   "outputs": [
    {
     "data": {
      "text/html": [
       "<div>\n",
       "<style scoped>\n",
       "    .dataframe tbody tr th:only-of-type {\n",
       "        vertical-align: middle;\n",
       "    }\n",
       "\n",
       "    .dataframe tbody tr th {\n",
       "        vertical-align: top;\n",
       "    }\n",
       "\n",
       "    .dataframe thead th {\n",
       "        text-align: right;\n",
       "    }\n",
       "</style>\n",
       "<table border=\"1\" class=\"dataframe\">\n",
       "  <thead>\n",
       "    <tr style=\"text-align: right;\">\n",
       "      <th></th>\n",
       "      <th>state</th>\n",
       "      <th>abbreviation</th>\n",
       "      <th>population</th>\n",
       "      <th>number_starbucks</th>\n",
       "      <th>people_per_starbucks</th>\n",
       "    </tr>\n",
       "  </thead>\n",
       "  <tbody>\n",
       "    <tr>\n",
       "      <th>0</th>\n",
       "      <td>California</td>\n",
       "      <td>CA</td>\n",
       "      <td>39613493</td>\n",
       "      <td>2821</td>\n",
       "      <td>14042.358384</td>\n",
       "    </tr>\n",
       "    <tr>\n",
       "      <th>1</th>\n",
       "      <td>Texas</td>\n",
       "      <td>TX</td>\n",
       "      <td>29730311</td>\n",
       "      <td>1042</td>\n",
       "      <td>28531.968330</td>\n",
       "    </tr>\n",
       "    <tr>\n",
       "      <th>2</th>\n",
       "      <td>Florida</td>\n",
       "      <td>FL</td>\n",
       "      <td>21944577</td>\n",
       "      <td>694</td>\n",
       "      <td>31620.427954</td>\n",
       "    </tr>\n",
       "    <tr>\n",
       "      <th>3</th>\n",
       "      <td>New York</td>\n",
       "      <td>NY</td>\n",
       "      <td>19299981</td>\n",
       "      <td>645</td>\n",
       "      <td>29922.451163</td>\n",
       "    </tr>\n",
       "    <tr>\n",
       "      <th>4</th>\n",
       "      <td>Pennsylvania</td>\n",
       "      <td>PA</td>\n",
       "      <td>12804123</td>\n",
       "      <td>357</td>\n",
       "      <td>35865.890756</td>\n",
       "    </tr>\n",
       "    <tr>\n",
       "      <th>5</th>\n",
       "      <td>Illinois</td>\n",
       "      <td>IL</td>\n",
       "      <td>12569321</td>\n",
       "      <td>575</td>\n",
       "      <td>21859.688696</td>\n",
       "    </tr>\n",
       "    <tr>\n",
       "      <th>6</th>\n",
       "      <td>Ohio</td>\n",
       "      <td>OH</td>\n",
       "      <td>11714618</td>\n",
       "      <td>378</td>\n",
       "      <td>30991.052910</td>\n",
       "    </tr>\n",
       "    <tr>\n",
       "      <th>7</th>\n",
       "      <td>Georgia</td>\n",
       "      <td>GA</td>\n",
       "      <td>10830007</td>\n",
       "      <td>326</td>\n",
       "      <td>33220.880368</td>\n",
       "    </tr>\n",
       "    <tr>\n",
       "      <th>8</th>\n",
       "      <td>Vermont</td>\n",
       "      <td>VT</td>\n",
       "      <td>650000</td>\n",
       "      <td>8</td>\n",
       "      <td>81250.000000</td>\n",
       "    </tr>\n",
       "  </tbody>\n",
       "</table>\n",
       "</div>"
      ],
      "text/plain": [
       "          state abbreviation  population  number_starbucks  \\\n",
       "0    California           CA    39613493              2821   \n",
       "1         Texas           TX    29730311              1042   \n",
       "2       Florida           FL    21944577               694   \n",
       "3      New York           NY    19299981               645   \n",
       "4  Pennsylvania           PA    12804123               357   \n",
       "5      Illinois           IL    12569321               575   \n",
       "6          Ohio           OH    11714618               378   \n",
       "7       Georgia           GA    10830007               326   \n",
       "8       Vermont           VT      650000                 8   \n",
       "\n",
       "   people_per_starbucks  \n",
       "0          14042.358384  \n",
       "1          28531.968330  \n",
       "2          31620.427954  \n",
       "3          29922.451163  \n",
       "4          35865.890756  \n",
       "5          21859.688696  \n",
       "6          30991.052910  \n",
       "7          33220.880368  \n",
       "8          81250.000000  "
      ]
     },
     "execution_count": 46,
     "metadata": {},
     "output_type": "execute_result"
    }
   ],
   "source": [
    "# We can also create new columns\n",
    "\n",
    "df['people_per_starbucks'] = df['population'] / df['number_starbucks']\n",
    "\n",
    "df"
   ]
  },
  {
   "cell_type": "code",
   "execution_count": 47,
   "id": "dcec2b51",
   "metadata": {
    "execution": {
     "iopub.execute_input": "2023-12-23T05:24:20.925906Z",
     "iopub.status.busy": "2023-12-23T05:24:20.925256Z",
     "iopub.status.idle": "2023-12-23T05:24:20.931787Z",
     "shell.execute_reply": "2023-12-23T05:24:20.930928Z"
    },
    "papermill": {
     "duration": 0.034828,
     "end_time": "2023-12-23T05:24:20.933815",
     "exception": false,
     "start_time": "2023-12-23T05:24:20.898987",
     "status": "completed"
    },
    "tags": []
   },
   "outputs": [
    {
     "name": "stderr",
     "output_type": "stream",
     "text": [
      "/tmp/ipykernel_20/3807909691.py:6: SettingWithCopyWarning: \n",
      "A value is trying to be set on a copy of a slice from a DataFrame.\n",
      "Try using .loc[row_indexer,col_indexer] = value instead\n",
      "\n",
      "See the caveats in the documentation: https://pandas.pydata.org/pandas-docs/stable/user_guide/indexing.html#returning-a-view-versus-a-copy\n",
      "  states_with_a_lot_of_starbucks['caffeinated'] = 'highly'\n"
     ]
    }
   ],
   "source": [
    "# What if we want to analyze just states that have a starbucks for every 30,000 people or fewer?\n",
    "\n",
    "# This will cause issues!\n",
    "states_with_a_lot_of_starbucks = df[df['people_per_starbucks'] <= 30000]\n",
    "\n",
    "states_with_a_lot_of_starbucks['caffeinated'] = 'highly'"
   ]
  },
  {
   "cell_type": "code",
   "execution_count": 48,
   "id": "f0c7dff4",
   "metadata": {
    "execution": {
     "iopub.execute_input": "2023-12-23T05:24:20.986050Z",
     "iopub.status.busy": "2023-12-23T05:24:20.985512Z",
     "iopub.status.idle": "2023-12-23T05:24:20.997082Z",
     "shell.execute_reply": "2023-12-23T05:24:20.996221Z"
    },
    "papermill": {
     "duration": 0.040257,
     "end_time": "2023-12-23T05:24:20.999051",
     "exception": false,
     "start_time": "2023-12-23T05:24:20.958794",
     "status": "completed"
    },
    "tags": []
   },
   "outputs": [
    {
     "data": {
      "text/html": [
       "<div>\n",
       "<style scoped>\n",
       "    .dataframe tbody tr th:only-of-type {\n",
       "        vertical-align: middle;\n",
       "    }\n",
       "\n",
       "    .dataframe tbody tr th {\n",
       "        vertical-align: top;\n",
       "    }\n",
       "\n",
       "    .dataframe thead th {\n",
       "        text-align: right;\n",
       "    }\n",
       "</style>\n",
       "<table border=\"1\" class=\"dataframe\">\n",
       "  <thead>\n",
       "    <tr style=\"text-align: right;\">\n",
       "      <th></th>\n",
       "      <th>state</th>\n",
       "      <th>abbreviation</th>\n",
       "      <th>population</th>\n",
       "      <th>number_starbucks</th>\n",
       "      <th>people_per_starbucks</th>\n",
       "      <th>caffeinated</th>\n",
       "    </tr>\n",
       "  </thead>\n",
       "  <tbody>\n",
       "    <tr>\n",
       "      <th>0</th>\n",
       "      <td>California</td>\n",
       "      <td>CA</td>\n",
       "      <td>39613493</td>\n",
       "      <td>2821</td>\n",
       "      <td>14042.358384</td>\n",
       "      <td>highly</td>\n",
       "    </tr>\n",
       "    <tr>\n",
       "      <th>1</th>\n",
       "      <td>Texas</td>\n",
       "      <td>TX</td>\n",
       "      <td>29730311</td>\n",
       "      <td>1042</td>\n",
       "      <td>28531.968330</td>\n",
       "      <td>highly</td>\n",
       "    </tr>\n",
       "    <tr>\n",
       "      <th>3</th>\n",
       "      <td>New York</td>\n",
       "      <td>NY</td>\n",
       "      <td>19299981</td>\n",
       "      <td>645</td>\n",
       "      <td>29922.451163</td>\n",
       "      <td>highly</td>\n",
       "    </tr>\n",
       "    <tr>\n",
       "      <th>5</th>\n",
       "      <td>Illinois</td>\n",
       "      <td>IL</td>\n",
       "      <td>12569321</td>\n",
       "      <td>575</td>\n",
       "      <td>21859.688696</td>\n",
       "      <td>highly</td>\n",
       "    </tr>\n",
       "  </tbody>\n",
       "</table>\n",
       "</div>"
      ],
      "text/plain": [
       "        state abbreviation  population  number_starbucks  \\\n",
       "0  California           CA    39613493              2821   \n",
       "1       Texas           TX    29730311              1042   \n",
       "3    New York           NY    19299981               645   \n",
       "5    Illinois           IL    12569321               575   \n",
       "\n",
       "   people_per_starbucks caffeinated  \n",
       "0          14042.358384      highly  \n",
       "1          28531.968330      highly  \n",
       "3          29922.451163      highly  \n",
       "5          21859.688696      highly  "
      ]
     },
     "execution_count": 48,
     "metadata": {},
     "output_type": "execute_result"
    }
   ],
   "source": [
    "states_with_a_lot_of_starbucks"
   ]
  },
  {
   "cell_type": "code",
   "execution_count": 49,
   "id": "d0db7a99",
   "metadata": {
    "execution": {
     "iopub.execute_input": "2023-12-23T05:24:21.051864Z",
     "iopub.status.busy": "2023-12-23T05:24:21.051060Z",
     "iopub.status.idle": "2023-12-23T05:24:21.064273Z",
     "shell.execute_reply": "2023-12-23T05:24:21.063268Z"
    },
    "papermill": {
     "duration": 0.041847,
     "end_time": "2023-12-23T05:24:21.066250",
     "exception": false,
     "start_time": "2023-12-23T05:24:21.024403",
     "status": "completed"
    },
    "tags": []
   },
   "outputs": [
    {
     "data": {
      "text/html": [
       "<div>\n",
       "<style scoped>\n",
       "    .dataframe tbody tr th:only-of-type {\n",
       "        vertical-align: middle;\n",
       "    }\n",
       "\n",
       "    .dataframe tbody tr th {\n",
       "        vertical-align: top;\n",
       "    }\n",
       "\n",
       "    .dataframe thead th {\n",
       "        text-align: right;\n",
       "    }\n",
       "</style>\n",
       "<table border=\"1\" class=\"dataframe\">\n",
       "  <thead>\n",
       "    <tr style=\"text-align: right;\">\n",
       "      <th></th>\n",
       "      <th>state</th>\n",
       "      <th>abbreviation</th>\n",
       "      <th>population</th>\n",
       "      <th>number_starbucks</th>\n",
       "      <th>people_per_starbucks</th>\n",
       "      <th>caffeinated</th>\n",
       "    </tr>\n",
       "  </thead>\n",
       "  <tbody>\n",
       "    <tr>\n",
       "      <th>0</th>\n",
       "      <td>California</td>\n",
       "      <td>CA</td>\n",
       "      <td>39613493</td>\n",
       "      <td>2821</td>\n",
       "      <td>14042.358384</td>\n",
       "      <td>highly</td>\n",
       "    </tr>\n",
       "    <tr>\n",
       "      <th>1</th>\n",
       "      <td>Texas</td>\n",
       "      <td>TX</td>\n",
       "      <td>29730311</td>\n",
       "      <td>1042</td>\n",
       "      <td>28531.968330</td>\n",
       "      <td>highly</td>\n",
       "    </tr>\n",
       "    <tr>\n",
       "      <th>3</th>\n",
       "      <td>New York</td>\n",
       "      <td>NY</td>\n",
       "      <td>19299981</td>\n",
       "      <td>645</td>\n",
       "      <td>29922.451163</td>\n",
       "      <td>highly</td>\n",
       "    </tr>\n",
       "    <tr>\n",
       "      <th>5</th>\n",
       "      <td>Illinois</td>\n",
       "      <td>IL</td>\n",
       "      <td>12569321</td>\n",
       "      <td>575</td>\n",
       "      <td>21859.688696</td>\n",
       "      <td>highly</td>\n",
       "    </tr>\n",
       "  </tbody>\n",
       "</table>\n",
       "</div>"
      ],
      "text/plain": [
       "        state abbreviation  population  number_starbucks  \\\n",
       "0  California           CA    39613493              2821   \n",
       "1       Texas           TX    29730311              1042   \n",
       "3    New York           NY    19299981               645   \n",
       "5    Illinois           IL    12569321               575   \n",
       "\n",
       "   people_per_starbucks caffeinated  \n",
       "0          14042.358384      highly  \n",
       "1          28531.968330      highly  \n",
       "3          29922.451163      highly  \n",
       "5          21859.688696      highly  "
      ]
     },
     "execution_count": 49,
     "metadata": {},
     "output_type": "execute_result"
    }
   ],
   "source": [
    "# In order to be efficient, pandas doens't copy all the data over when you filter it--it just gives you a \"view\" into the original data\n",
    "# Normally this is great, but if we want to start messing around with our new data frame, we want a fresh copy of the data\n",
    "states_with_a_lot_of_starbucks = df[df['people_per_starbucks'] <= 30000].copy()\n",
    "\n",
    "states_with_a_lot_of_starbucks['caffeinated'] = 'highly'\n",
    "\n",
    "states_with_a_lot_of_starbucks.head()"
   ]
  },
  {
   "cell_type": "markdown",
   "id": "97928ef1",
   "metadata": {
    "papermill": {
     "duration": 0.027456,
     "end_time": "2023-12-23T05:24:21.118816",
     "exception": false,
     "start_time": "2023-12-23T05:24:21.091360",
     "status": "completed"
    },
    "tags": []
   },
   "source": [
    "## Make A Submission to the Competition\n",
    "All we need to do to submit to the competition is to create a file called `submission.csv` in the right format.\n",
    "Luckily, we have a `sample_submission.csv` that's already in the rigth format--so lets use that one!"
   ]
  },
  {
   "cell_type": "code",
   "execution_count": 50,
   "id": "b337b1f4",
   "metadata": {
    "execution": {
     "iopub.execute_input": "2023-12-23T05:24:21.171594Z",
     "iopub.status.busy": "2023-12-23T05:24:21.171210Z",
     "iopub.status.idle": "2023-12-23T05:24:21.193801Z",
     "shell.execute_reply": "2023-12-23T05:24:21.192692Z"
    },
    "papermill": {
     "duration": 0.051937,
     "end_time": "2023-12-23T05:24:21.195925",
     "exception": false,
     "start_time": "2023-12-23T05:24:21.143988",
     "status": "completed"
    },
    "tags": []
   },
   "outputs": [
    {
     "data": {
      "text/html": [
       "<div>\n",
       "<style scoped>\n",
       "    .dataframe tbody tr th:only-of-type {\n",
       "        vertical-align: middle;\n",
       "    }\n",
       "\n",
       "    .dataframe tbody tr th {\n",
       "        vertical-align: top;\n",
       "    }\n",
       "\n",
       "    .dataframe thead th {\n",
       "        text-align: right;\n",
       "    }\n",
       "</style>\n",
       "<table border=\"1\" class=\"dataframe\">\n",
       "  <thead>\n",
       "    <tr style=\"text-align: right;\">\n",
       "      <th></th>\n",
       "      <th>id</th>\n",
       "      <th>price</th>\n",
       "    </tr>\n",
       "  </thead>\n",
       "  <tbody>\n",
       "    <tr>\n",
       "      <th>0</th>\n",
       "      <td>cb5edc4fbb104b89</td>\n",
       "      <td>0</td>\n",
       "    </tr>\n",
       "    <tr>\n",
       "      <th>1</th>\n",
       "      <td>1bcef002ce389c49</td>\n",
       "      <td>0</td>\n",
       "    </tr>\n",
       "    <tr>\n",
       "      <th>2</th>\n",
       "      <td>bd76ce405ca030f0</td>\n",
       "      <td>0</td>\n",
       "    </tr>\n",
       "    <tr>\n",
       "      <th>3</th>\n",
       "      <td>40553013075ce241</td>\n",
       "      <td>0</td>\n",
       "    </tr>\n",
       "    <tr>\n",
       "      <th>4</th>\n",
       "      <td>286049d7edf3ba23</td>\n",
       "      <td>0</td>\n",
       "    </tr>\n",
       "    <tr>\n",
       "      <th>...</th>\n",
       "      <td>...</td>\n",
       "      <td>...</td>\n",
       "    </tr>\n",
       "    <tr>\n",
       "      <th>115</th>\n",
       "      <td>6cf64aa97e47a07b</td>\n",
       "      <td>0</td>\n",
       "    </tr>\n",
       "    <tr>\n",
       "      <th>116</th>\n",
       "      <td>fc6facf81274fc32</td>\n",
       "      <td>0</td>\n",
       "    </tr>\n",
       "    <tr>\n",
       "      <th>117</th>\n",
       "      <td>23ce24895ca207a1</td>\n",
       "      <td>0</td>\n",
       "    </tr>\n",
       "    <tr>\n",
       "      <th>118</th>\n",
       "      <td>64bd0b8e987ac69d</td>\n",
       "      <td>0</td>\n",
       "    </tr>\n",
       "    <tr>\n",
       "      <th>119</th>\n",
       "      <td>3a70e450b5440855</td>\n",
       "      <td>0</td>\n",
       "    </tr>\n",
       "  </tbody>\n",
       "</table>\n",
       "<p>120 rows × 2 columns</p>\n",
       "</div>"
      ],
      "text/plain": [
       "                   id  price\n",
       "0    cb5edc4fbb104b89      0\n",
       "1    1bcef002ce389c49      0\n",
       "2    bd76ce405ca030f0      0\n",
       "3    40553013075ce241      0\n",
       "4    286049d7edf3ba23      0\n",
       "..                ...    ...\n",
       "115  6cf64aa97e47a07b      0\n",
       "116  fc6facf81274fc32      0\n",
       "117  23ce24895ca207a1      0\n",
       "118  64bd0b8e987ac69d      0\n",
       "119  3a70e450b5440855      0\n",
       "\n",
       "[120 rows x 2 columns]"
      ]
     },
     "execution_count": 50,
     "metadata": {},
     "output_type": "execute_result"
    }
   ],
   "source": [
    "sample_submission_df = pd.read_csv('/kaggle/input/how-much-would-you-pay-for-a-fake-cat/sample_submission.csv')\n",
    "sample_submission_df"
   ]
  },
  {
   "cell_type": "code",
   "execution_count": 51,
   "id": "48dbc212",
   "metadata": {
    "execution": {
     "iopub.execute_input": "2023-12-23T05:24:21.249101Z",
     "iopub.status.busy": "2023-12-23T05:24:21.248727Z",
     "iopub.status.idle": "2023-12-23T05:24:21.259825Z",
     "shell.execute_reply": "2023-12-23T05:24:21.258847Z"
    },
    "papermill": {
     "duration": 0.040403,
     "end_time": "2023-12-23T05:24:21.262123",
     "exception": false,
     "start_time": "2023-12-23T05:24:21.221720",
     "status": "completed"
    },
    "tags": []
   },
   "outputs": [],
   "source": [
    "sample_submission_df.to_csv('submission.csv', index=False)"
   ]
  },
  {
   "cell_type": "markdown",
   "id": "3da6b0e6",
   "metadata": {
    "execution": {
     "iopub.execute_input": "2023-06-04T18:22:50.6887Z",
     "iopub.status.busy": "2023-06-04T18:22:50.688339Z",
     "iopub.status.idle": "2023-06-04T18:22:50.693236Z",
     "shell.execute_reply": "2023-06-04T18:22:50.69187Z",
     "shell.execute_reply.started": "2023-06-04T18:22:50.688673Z"
    },
    "papermill": {
     "duration": 0.025676,
     "end_time": "2023-12-23T05:24:21.314208",
     "exception": false,
     "start_time": "2023-12-23T05:24:21.288532",
     "status": "completed"
    },
    "tags": []
   },
   "source": [
    "## Bonus Round: My Favorite Things!"
   ]
  },
  {
   "cell_type": "code",
   "execution_count": 52,
   "id": "dfed9e2e",
   "metadata": {
    "execution": {
     "iopub.execute_input": "2023-12-23T05:24:21.368157Z",
     "iopub.status.busy": "2023-12-23T05:24:21.367116Z",
     "iopub.status.idle": "2023-12-23T05:24:21.374104Z",
     "shell.execute_reply": "2023-12-23T05:24:21.373098Z"
    },
    "papermill": {
     "duration": 0.035726,
     "end_time": "2023-12-23T05:24:21.376004",
     "exception": false,
     "start_time": "2023-12-23T05:24:21.340278",
     "status": "completed"
    },
    "tags": []
   },
   "outputs": [
    {
     "data": {
      "text/plain": [
       "(81, 3.0)"
      ]
     },
     "execution_count": 52,
     "metadata": {},
     "output_type": "execute_result"
    }
   ],
   "source": [
    "# Exponents\n",
    "\n",
    "x = 9\n",
    "x_squared = x ** 2\n",
    "x_square_root = x ** .5\n",
    "\n",
    "x_squared, x_square_root"
   ]
  },
  {
   "cell_type": "code",
   "execution_count": 53,
   "id": "ffaf78cd",
   "metadata": {
    "execution": {
     "iopub.execute_input": "2023-12-23T05:24:21.430188Z",
     "iopub.status.busy": "2023-12-23T05:24:21.429184Z",
     "iopub.status.idle": "2023-12-23T05:24:21.436678Z",
     "shell.execute_reply": "2023-12-23T05:24:21.435692Z"
    },
    "papermill": {
     "duration": 0.037359,
     "end_time": "2023-12-23T05:24:21.438909",
     "exception": false,
     "start_time": "2023-12-23T05:24:21.401550",
     "status": "completed"
    },
    "tags": []
   },
   "outputs": [
    {
     "data": {
      "text/plain": [
       "[1, 4, 9, 16, 25]"
      ]
     },
     "execution_count": 53,
     "metadata": {},
     "output_type": "execute_result"
    }
   ],
   "source": [
    "# List comprehensions\n",
    "\n",
    "numbers = [1, 2, 3, 4, 5]\n",
    "\n",
    "# The old dumb way\n",
    "\n",
    "numbers_squared = []\n",
    "for number in numbers:\n",
    "    numbers_squared.append(number ** 2)\n",
    "\n",
    "# The cool way\n",
    "numbers_squared_but_cooler = [number ** 2 for number in numbers]\n",
    "\n",
    "numbers_squared_but_cooler"
   ]
  },
  {
   "cell_type": "code",
   "execution_count": 54,
   "id": "b228d915",
   "metadata": {
    "execution": {
     "iopub.execute_input": "2023-12-23T05:24:21.492005Z",
     "iopub.status.busy": "2023-12-23T05:24:21.491599Z",
     "iopub.status.idle": "2023-12-23T05:24:21.496598Z",
     "shell.execute_reply": "2023-12-23T05:24:21.495828Z"
    },
    "papermill": {
     "duration": 0.03443,
     "end_time": "2023-12-23T05:24:21.499072",
     "exception": false,
     "start_time": "2023-12-23T05:24:21.464642",
     "status": "completed"
    },
    "tags": []
   },
   "outputs": [
    {
     "name": "stdout",
     "output_type": "stream",
     "text": [
      "You can drive, but you can't drink\n",
      "You can drive, but you can't drink\n"
     ]
    }
   ],
   "source": [
    "# Chaining comparisons\n",
    "\n",
    "my_age = 17\n",
    "\n",
    "# In most languages we have to do this:\n",
    "\n",
    "if 16 < my_age and my_age < 21:\n",
    "    print('You can drive, but you can\\'t drink')\n",
    "    \n",
    "# But in python we can do THIS\n",
    "\n",
    "if 16 < my_age < 21:\n",
    "    print('You can drive, but you can\\'t drink')"
   ]
  },
  {
   "cell_type": "code",
   "execution_count": 55,
   "id": "56ad73a7",
   "metadata": {
    "execution": {
     "iopub.execute_input": "2023-12-23T05:24:21.553542Z",
     "iopub.status.busy": "2023-12-23T05:24:21.552550Z",
     "iopub.status.idle": "2023-12-23T05:24:21.559668Z",
     "shell.execute_reply": "2023-12-23T05:24:21.558569Z"
    },
    "papermill": {
     "duration": 0.036702,
     "end_time": "2023-12-23T05:24:21.561767",
     "exception": false,
     "start_time": "2023-12-23T05:24:21.525065",
     "status": "completed"
    },
    "tags": []
   },
   "outputs": [
    {
     "data": {
      "text/plain": [
       "'fifth'"
      ]
     },
     "execution_count": 55,
     "metadata": {},
     "output_type": "execute_result"
    }
   ],
   "source": [
    "ordinals = ['first', 'second', 'third', 'fourth', 'fifth']\n",
    "last_index = len(ordinals) - 1\n",
    "ordinals[last_index]"
   ]
  },
  {
   "cell_type": "code",
   "execution_count": 56,
   "id": "212c0662",
   "metadata": {
    "execution": {
     "iopub.execute_input": "2023-12-23T05:24:21.616163Z",
     "iopub.status.busy": "2023-12-23T05:24:21.615780Z",
     "iopub.status.idle": "2023-12-23T05:24:21.622674Z",
     "shell.execute_reply": "2023-12-23T05:24:21.621481Z"
    },
    "papermill": {
     "duration": 0.036885,
     "end_time": "2023-12-23T05:24:21.624719",
     "exception": false,
     "start_time": "2023-12-23T05:24:21.587834",
     "status": "completed"
    },
    "tags": []
   },
   "outputs": [
    {
     "data": {
      "text/plain": [
       "('fifth', 'fourth')"
      ]
     },
     "execution_count": 56,
     "metadata": {},
     "output_type": "execute_result"
    }
   ],
   "source": [
    "# Negative indexing\n",
    "\n",
    "ordinals = ['first', 'second', 'third', 'fourth', 'fifth']\n",
    "\n",
    "ordinals[-1], ordinals[-2]"
   ]
  },
  {
   "cell_type": "code",
   "execution_count": 57,
   "id": "b46a505e",
   "metadata": {
    "execution": {
     "iopub.execute_input": "2023-12-23T05:24:21.678480Z",
     "iopub.status.busy": "2023-12-23T05:24:21.678122Z",
     "iopub.status.idle": "2023-12-23T05:24:21.682541Z",
     "shell.execute_reply": "2023-12-23T05:24:21.681475Z"
    },
    "papermill": {
     "duration": 0.033928,
     "end_time": "2023-12-23T05:24:21.684737",
     "exception": false,
     "start_time": "2023-12-23T05:24:21.650809",
     "status": "completed"
    },
    "tags": []
   },
   "outputs": [],
   "source": [
    "import numpy as np"
   ]
  },
  {
   "cell_type": "code",
   "execution_count": 58,
   "id": "3e127508",
   "metadata": {
    "execution": {
     "iopub.execute_input": "2023-12-23T05:24:21.739460Z",
     "iopub.status.busy": "2023-12-23T05:24:21.739098Z",
     "iopub.status.idle": "2023-12-23T05:24:21.744015Z",
     "shell.execute_reply": "2023-12-23T05:24:21.742865Z"
    },
    "papermill": {
     "duration": 0.034888,
     "end_time": "2023-12-23T05:24:21.746310",
     "exception": false,
     "start_time": "2023-12-23T05:24:21.711422",
     "status": "completed"
    },
    "tags": []
   },
   "outputs": [],
   "source": [
    "x = np.random.normal(size=100)\n",
    "y = np.random.normal(size=100)"
   ]
  },
  {
   "cell_type": "code",
   "execution_count": 59,
   "id": "e29b4c2b",
   "metadata": {
    "execution": {
     "iopub.execute_input": "2023-12-23T05:24:21.801109Z",
     "iopub.status.busy": "2023-12-23T05:24:21.799883Z",
     "iopub.status.idle": "2023-12-23T05:24:21.805471Z",
     "shell.execute_reply": "2023-12-23T05:24:21.804713Z"
    },
    "papermill": {
     "duration": 0.035056,
     "end_time": "2023-12-23T05:24:21.807549",
     "exception": false,
     "start_time": "2023-12-23T05:24:21.772493",
     "status": "completed"
    },
    "tags": []
   },
   "outputs": [],
   "source": [
    "xp = np.random.normal(loc=2, scale=1.5, size=100)\n",
    "yp = np.random.normal(loc=2, size=100)"
   ]
  },
  {
   "cell_type": "code",
   "execution_count": 60,
   "id": "e7ff5420",
   "metadata": {
    "execution": {
     "iopub.execute_input": "2023-12-23T05:24:21.861125Z",
     "iopub.status.busy": "2023-12-23T05:24:21.860730Z",
     "iopub.status.idle": "2023-12-23T05:24:22.259208Z",
     "shell.execute_reply": "2023-12-23T05:24:22.258132Z"
    },
    "papermill": {
     "duration": 0.42769,
     "end_time": "2023-12-23T05:24:22.261430",
     "exception": false,
     "start_time": "2023-12-23T05:24:21.833740",
     "status": "completed"
    },
    "tags": []
   },
   "outputs": [
    {
     "data": {
      "text/plain": [
       "(array([ 3.,  1., 10., 14., 19., 15., 16., 13.,  6.,  3.]),\n",
       " array([-2.69139706, -2.17570385, -1.66001065, -1.14431744, -0.62862423,\n",
       "        -0.11293103,  0.40276218,  0.91845538,  1.43414859,  1.9498418 ,\n",
       "         2.465535  ]),\n",
       " <BarContainer object of 10 artists>)"
      ]
     },
     "execution_count": 60,
     "metadata": {},
     "output_type": "execute_result"
    },
    {
     "data": {
      "image/png": "[encoded data removed]",
      "text/plain": [
       "<Figure size 640x480 with 1 Axes>"
      ]
     },
     "metadata": {},
     "output_type": "display_data"
    }
   ],
   "source": [
    "import matplotlib.pyplot as plt\n",
    "\n",
    "plt.hist(x)\n",
    "plt.hist(y)"
   ]
  },
  {
   "cell_type": "code",
   "execution_count": 61,
   "id": "33461425",
   "metadata": {
    "execution": {
     "iopub.execute_input": "2023-12-23T05:24:22.315935Z",
     "iopub.status.busy": "2023-12-23T05:24:22.315540Z",
     "iopub.status.idle": "2023-12-23T05:24:22.703672Z",
     "shell.execute_reply": "2023-12-23T05:24:22.702549Z"
    },
    "papermill": {
     "duration": 0.419106,
     "end_time": "2023-12-23T05:24:22.707059",
     "exception": false,
     "start_time": "2023-12-23T05:24:22.287953",
     "status": "completed"
    },
    "tags": []
   },
   "outputs": [
    {
     "data": {
      "text/plain": [
       "Text(0.5, 0, 'Age')"
      ]
     },
     "execution_count": 61,
     "metadata": {},
     "output_type": "execute_result"
    },
    {
     "data": {
      "image/png": "[encoded data removed]",
      "text/plain": [
       "<Figure size 640x480 with 1 Axes>"
      ]
     },
     "metadata": {},
     "output_type": "display_data"
    }
   ],
   "source": [
    "plt.scatter(x, y)\n",
    "plt.scatter(xp, yp, c='red')\n",
    "plt.title('The reds vs the blues', fontdict={'size': 40})\n",
    "plt.ylabel('Height')\n",
    "plt.xlabel('Age')"
   ]
  },
  {
   "cell_type": "code",
   "execution_count": null,
   "id": "75f89331",
   "metadata": {
    "papermill": {
     "duration": 0.026795,
     "end_time": "2023-12-23T05:24:22.763946",
     "exception": false,
     "start_time": "2023-12-23T05:24:22.737151",
     "status": "completed"
    },
    "tags": []
   },
   "outputs": [],
   "source": []
  }
 ],
 "metadata": {
  "kaggle": {
   "accelerator": "none",
   "dataSources": [
    {
     "databundleVersionId": 6487581,
     "sourceId": 60121,
     "sourceType": "competition"
    }
   ],
   "dockerImageVersionId": 30497,
   "isGpuEnabled": false,
   "isInternetEnabled": true,
   "language": "python",
   "sourceType": "notebook"
  },
  "kernelspec": {
   "display_name": "Python 3",
   "language": "python",
   "name": "python3"
  },
  "language_info": {
   "codemirror_mode": {
    "name": "ipython",
    "version": 3
   },
   "file_extension": ".py",
   "mimetype": "text/x-python",
   "name": "python",
   "nbconvert_exporter": "python",
   "pygments_lexer": "ipython3",
   "version": "3.10.10"
  },
  "papermill": {
   "default_parameters": {},
   "duration": 107.629074,
   "end_time": "2023-12-23T05:24:23.713931",
   "environment_variables": {},
   "exception": null,
   "input_path": "__notebook__.ipynb",
   "output_path": "__notebook__.ipynb",
   "parameters": {},
   "start_time": "2023-12-23T05:22:36.084857",
   "version": "2.4.0"
  }
 },
 "nbformat": 4,
 "nbformat_minor": 5
}
